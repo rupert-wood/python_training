{
 "cells": [
  {
   "cell_type": "markdown",
   "id": "d6b835a5-e461-4ff7-a4c2-57d25de7c76f",
   "metadata": {},
   "source": [
    "# Data Handling with Python – Equifax cohort\n",
    "1. Introduction to Data Handling with Python\n",
    "```python\n",
    "# Store this two-dimensional array\n",
    "y = np.array([\n",
    "    [12, 5, 2, 4],\n",
    "    [ 7, 6, 8, 8],\n",
    "    [ 1, 6, 7, 7]\n",
    "])\n",
    "```"
   ]
  },
  {
   "cell_type": "code",
   "execution_count": 3,
   "id": "5eceb490-3844-4690-86f1-f4007c554958",
   "metadata": {},
   "outputs": [],
   "source": [
    "import numpy as np\n",
    "y = np.array([[12, 5, 2, 4], [ 7, 6, 8, 8], [ 1, 6, 7, 7]])"
   ]
  },
  {
   "cell_type": "code",
   "execution_count": 13,
   "id": "30b8ba5b-b3b1-48a6-8142-05606d67b28e",
   "metadata": {},
   "outputs": [
    {
     "data": {
      "text/plain": [
       "array([[12,  5,  2],\n",
       "       [ 7,  6,  8]])"
      ]
     },
     "execution_count": 13,
     "metadata": {},
     "output_type": "execute_result"
    }
   ],
   "source": [
    "#1. Display the first 2 rows and the first 3 columns.\n",
    "y[0:2,0:3]"
   ]
  },
  {
   "cell_type": "code",
   "execution_count": 14,
   "id": "1ac8b7eb-7207-4940-a0a0-84ccf2e17a39",
   "metadata": {},
   "outputs": [
    {
     "data": {
      "text/plain": [
       "array([12,  7,  1])"
      ]
     },
     "execution_count": 14,
     "metadata": {},
     "output_type": "execute_result"
    }
   ],
   "source": [
    "#2. Display the first column of y.\n",
    "y[:,0]"
   ]
  },
  {
   "cell_type": "code",
   "execution_count": 15,
   "id": "c9a1ce57-4a77-43fa-97c8-edd93a963ef9",
   "metadata": {},
   "outputs": [
    {
     "data": {
      "text/plain": [
       "array([12,  5,  2,  4])"
      ]
     },
     "execution_count": 15,
     "metadata": {},
     "output_type": "execute_result"
    }
   ],
   "source": [
    "#3. Display the first row of y.\n",
    "y[0]\n",
    "y[0,:]"
   ]
  },
  {
   "cell_type": "code",
   "execution_count": 11,
   "id": "ce5fed86-0f02-485a-bc36-b927dc48888d",
   "metadata": {},
   "outputs": [],
   "source": [
    "#Read the contents of file cdc_1.csv, containing heights, weights and ages, into array data.\n",
    "data = np.genfromtxt('data/cdc_1.csv', delimiter=',',skip_header=1)"
   ]
  },
  {
   "cell_type": "code",
   "execution_count": 12,
   "id": "bb8aee01-3fb9-47a7-8265-f128b96556ce",
   "metadata": {},
   "outputs": [
    {
     "data": {
      "text/plain": [
       "array([[ 70., 175.,  77.],\n",
       "       [ 71., 194.,  31.],\n",
       "       [ 67., 170.,  45.],\n",
       "       ...,\n",
       "       [ 69., 224.,  73.],\n",
       "       [ 73., 200.,  35.],\n",
       "       [ 69., 170.,  83.]])"
      ]
     },
     "execution_count": 12,
     "metadata": {},
     "output_type": "execute_result"
    }
   ],
   "source": [
    "data"
   ]
  },
  {
   "cell_type": "code",
   "execution_count": 18,
   "id": "c98227c1-b21e-4de4-90b0-99129933fd10",
   "metadata": {},
   "outputs": [
    {
     "name": "stdout",
     "output_type": "stream",
     "text": [
      "4.4969125210773475\n",
      "6.666666666666667\n",
      "0.4714045207910317\n",
      "5.666666666666667\n",
      "2.6246692913372702\n",
      "5.666666666666667\n"
     ]
    }
   ],
   "source": [
    "#4. Calculate the standard deviation and the mean for\n",
    "#• height\n",
    "#• weight\n",
    "#• age\n",
    "#Output the results in a printed summary\n",
    "\n",
    "for i in np.arange(3):\n",
    "    print(y[:,i].std())\n",
    "    print(y[:,i].mean())"
   ]
  },
  {
   "cell_type": "code",
   "execution_count": 19,
   "id": "57d5108f-59a5-4934-bbc2-5353a36464a5",
   "metadata": {},
   "outputs": [],
   "source": [
    "#Extension - Next, read the contents of file cdc_nan.csv, containing heights, weights and ages, into array data. \n",
    "nan = np.genfromtxt('data/cdc_nan.csv', delimiter=',',skip_header=1)"
   ]
  },
  {
   "cell_type": "code",
   "execution_count": 24,
   "id": "f6a032d8-a086-44cf-9ed5-3995410555b3",
   "metadata": {},
   "outputs": [
    {
     "name": "stdout",
     "output_type": "stream",
     "text": [
      "70.0\n",
      "nan\n"
     ]
    }
   ],
   "source": [
    "#. Separate the heights (column 0) and the weights (column 1)\n",
    "#2. Calculate the median for the heights and the weights and assign the values to variables.\n",
    "#3. What has happened? Check if the arrays contain missing values.\n",
    "\n",
    "heights = nan[:,0]\n",
    "weights = nan[:,1]\n",
    "median_height = np.median(heights)\n",
    "median_weight = np.median(weights)\n",
    "\n",
    "print(median_height)\n",
    "print(median_weight)"
   ]
  },
  {
   "cell_type": "code",
   "execution_count": 32,
   "id": "f984837c-f4af-4b79-ac98-efae1219a3a1",
   "metadata": {},
   "outputs": [
    {
     "data": {
      "text/plain": [
       "array([[ 3],\n",
       "       [11],\n",
       "       [17]])"
      ]
     },
     "execution_count": 32,
     "metadata": {},
     "output_type": "execute_result"
    }
   ],
   "source": [
    "#4. Array weights contain three nan values. Find their positions.\n",
    "np.argwhere(np.isnan(weights))"
   ]
  },
  {
   "cell_type": "code",
   "execution_count": 31,
   "id": "f883adea-3dc9-40dc-abc4-3bbac5c1c384",
   "metadata": {},
   "outputs": [
    {
     "data": {
      "text/plain": [
       "np.float64(185.0)"
      ]
     },
     "execution_count": 31,
     "metadata": {},
     "output_type": "execute_result"
    }
   ],
   "source": [
    "#5. Now calculate the median for the weights ignoring the nan values.\n",
    "np.median(weights[~np.isnan(weights)])"
   ]
  }
 ],
 "metadata": {
  "kernelspec": {
   "display_name": "Python 3 (ipykernel)",
   "language": "python",
   "name": "python3"
  },
  "language_info": {
   "codemirror_mode": {
    "name": "ipython",
    "version": 3
   },
   "file_extension": ".py",
   "mimetype": "text/x-python",
   "name": "python",
   "nbconvert_exporter": "python",
   "pygments_lexer": "ipython3",
   "version": "3.11.9"
  }
 },
 "nbformat": 4,
 "nbformat_minor": 5
}
