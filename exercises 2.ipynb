{
 "cells": [
  {
   "cell_type": "markdown",
   "id": "3bf50b65-255c-4145-847a-9a743572c950",
   "metadata": {},
   "source": [
    "# 2. Data Structures, Functions, & Basic Types\n",
    "Objective\n",
    "In this guided task, you will:\n",
    "- Perform various operations on lists and strings.\n",
    "- Perform operations related to tuples, dictionaries, and sets.\n",
    "- Define and call functions.\n"
   ]
  },
  {
   "cell_type": "markdown",
   "id": "8b0ec611-c088-43b8-a69e-8c52129c0076",
   "metadata": {},
   "source": [
    "### Lists\n",
    "```python\n",
    "ages =\n",
    "[12,18,33,84,45,67,12,82,95,16,10,23,43,29,40,34,30,16,44,69,7\n",
    "0,74,38, 65, 36, 83, 50, 11, 79, 64, 78, 37, 3, 8,68, 22, 4,\n",
    "60, 33, 82, 45, 23, 5, 18, 28, 99, 17, 81,14, 88, 50, 19, 59,\n",
    "7, 44, 93,35,72,25,63,11,69,11,76,10,60,30,14,21,82,47,6 , 21,\n",
    "88,46,78,92,48,36,28,51]\n",
    "```\n",
    "1. Record the length of the ages list in a variable. Display the length.\n",
    "2. Display the first element of the ages list.\n",
    "3. Display the last element of the ages list.\n",
    "4. Find the ages from the third to the last.\n",
    "5. Show the first 10 ages backwards."
   ]
  },
  {
   "cell_type": "code",
   "execution_count": 6,
   "id": "510ad3dc-a0be-4454-8c2b-c608d5112d46",
   "metadata": {},
   "outputs": [
    {
     "name": "stdout",
     "output_type": "stream",
     "text": [
      "First Element:  12\n",
      "Last Element:  51\n",
      "From 3rd to last:  [36, 28, 51]\n",
      "First 10 reversed:  [16, 95, 82, 12, 67, 45, 84, 33, 18, 12]\n"
     ]
    }
   ],
   "source": [
    "ages = [\n",
    "    12,18,33,84,45,67,12,82,95,16,10,23,43,29,40,34,\n",
    "    30,16,44,69,70,74,38, 65, 36, 83, 50, 11, 79, 64,\n",
    "    78, 37, 3, 8,68, 22, 4, 60, 33, 82, 45, 23, 5, 18,\n",
    "    28, 99, 17, 81,14, 88, 50, 19, 59, 7, 44, 93,35,72,\n",
    "    25,63,11,69,11,76,10,60,30,14,21,82,47,6 , 21, 88,46,78,92,48,36,28,51\n",
    "]\n",
    "length = len(ages)\n",
    "print('First Element: ', ages[0])\n",
    "print('Last Element: ', ages[-1])\n",
    "print('From 3rd to last: ', ages[-3:])\n",
    "print('First 10 reversed: ', list(reversed(ages[:10])))\n",
    "\n"
   ]
  },
  {
   "cell_type": "markdown",
   "id": "d277208c-4956-4934-ac2a-44983e087259",
   "metadata": {},
   "source": [
    "6. Spot the missing value in the list of odd numbers and insert it.\n",
    "   Hint: .insert()\n",
    "```python\n",
    "# a list of odd numbers\n",
    "odd = [1,3,5,7,9,11,15,17,19,21]\n",
    "```"
   ]
  },
  {
   "cell_type": "code",
   "execution_count": 10,
   "id": "9f31b074-1f42-4560-a32e-b6b474fd72ce",
   "metadata": {},
   "outputs": [
    {
     "data": {
      "text/plain": [
       "[1, 3, 5, 7, 9, 11, 13, 15, 17, 19, 21]"
      ]
     },
     "execution_count": 10,
     "metadata": {},
     "output_type": "execute_result"
    }
   ],
   "source": [
    "odd = [1,3,5,7,9,11,15,17,19,21]\n",
    "odd.insert(6,13)\n",
    "odd"
   ]
  },
  {
   "cell_type": "markdown",
   "id": "0f2fd0ad-b41e-4328-9fb4-bc76acebda4a",
   "metadata": {},
   "source": [
    "### Strings\n",
    "1. Spell the greeting backwards. Hint: [::]\n",
    "```python\n",
    "# a greeting\n",
    "greeting = 'Hello'\n",
    "```"
   ]
  },
  {
   "cell_type": "code",
   "execution_count": 16,
   "id": "79ccf996-2609-4e54-b6da-2d1e5ed67e37",
   "metadata": {},
   "outputs": [
    {
     "data": {
      "text/plain": [
       "'olleH'"
      ]
     },
     "execution_count": 16,
     "metadata": {},
     "output_type": "execute_result"
    }
   ],
   "source": [
    "greeting = 'Hello'\n",
    "greeting[::-1]"
   ]
  },
  {
   "cell_type": "markdown",
   "id": "6d99212d-c73d-4eea-bd6b-218b8abe181e",
   "metadata": {},
   "source": [
    "2. Spell the name of the UK observing which letters should be capital and which lowercase.\n",
    "```python\n",
    "UK = 'UNITED KINGDOM OF GREAT BRITAIN AND NORTHERN IRELAND'\n",
    "```"
   ]
  },
  {
   "cell_type": "code",
   "execution_count": 17,
   "id": "c1f7b113-e157-416b-85ff-39f9e0cd7903",
   "metadata": {},
   "outputs": [
    {
     "data": {
      "text/plain": [
       "'United Kingdom Of Great Britain And Northern Ireland'"
      ]
     },
     "execution_count": 17,
     "metadata": {},
     "output_type": "execute_result"
    }
   ],
   "source": [
    "UK = 'UNITED KINGDOM OF GREAT BRITAIN AND NORTHERN IRELAND'\n",
    "UK.title()"
   ]
  },
  {
   "cell_type": "markdown",
   "id": "6a9cd807-dea2-40f7-956e-42bb8ba7d535",
   "metadata": {},
   "source": [
    "3. Find the position of the first occurrence of the word ‘forever’.\n",
    "```python\n",
    "# from \"Fare thee well\", George Gordon Byron\n",
    "byron = 'Fare thee well and if forever still forever fare thee well'\n",
    "```"
   ]
  },
  {
   "cell_type": "code",
   "execution_count": 18,
   "id": "51ea5636-11a5-44f8-83aa-304a70ac472e",
   "metadata": {},
   "outputs": [
    {
     "data": {
      "text/plain": [
       "22"
      ]
     },
     "execution_count": 18,
     "metadata": {},
     "output_type": "execute_result"
    }
   ],
   "source": [
    "# from \"Fare thee well\", George Gordon Byron\n",
    "byron = 'Fare thee well and if forever still forever fare thee well'\n",
    "byron.find('forever')"
   ]
  },
  {
   "cell_type": "markdown",
   "id": "ab11b324-18ee-416f-ba8d-d4903fd7f225",
   "metadata": {},
   "source": [
    "### Functions\n",
    "1. Having created a function that calculate the area of a circle with:\n",
    "```\n",
    "def AoC(r):\n",
    " pi= 3.14\n",
    " return pi* (r ** 2)\n",
    "```\n",
    "2. Create function that converts Fahrenheit to Celsius,\n",
    "3. Validate the datatype of the input for both functions."
   ]
  },
  {
   "cell_type": "code",
   "execution_count": null,
   "id": "0f65e73b-eaaa-4fa5-9069-961be0071b07",
   "metadata": {},
   "outputs": [],
   "source": [
    "#Farenheit to Celcius and validate argument\n",
    "\n",
    "def farenheit_to_celcius():\n",
    "    try:\n",
    "        f = float(input(\"Input Farenheit:\"))\n",
    "        print((f-32)*5/9)\n",
    "    except:\n",
    "        print(\"Input must be numeric!\")\n",
    "        farenheit_to_celcius()\n",
    "        \n",
    "farenheit_to_celcius()"
   ]
  },
  {
   "cell_type": "markdown",
   "id": "56ac8971-7652-48cc-9f46-0c5e1ea66cef",
   "metadata": {},
   "source": [
    "### File handling\n",
    "1. Read file data.txt\n",
    "2. Calculate the sum, minimum, maximum, and the average of the values\n",
    "in the file. Hint: All data read in from the file will be of string type\n",
    "3. Output the results to a newly created file."
   ]
  },
  {
   "cell_type": "code",
   "execution_count": 24,
   "id": "d5c99983-07dd-4a92-9834-f5e5ee06828d",
   "metadata": {},
   "outputs": [],
   "source": [
    "import numpy as np\n",
    "with open('data/data.txt') as f:\n",
    "    x = f.read().split('\\n')\n",
    "    #x = list(f.readlines())\n",
    "\n",
    "nums = np.array(x).astype(float)\n",
    "\n",
    "with open('summary_results.txt','w') as f:\n",
    "    f.write(f'Sum: {np.sum(nums)}\\n' )\n",
    "    f.write(f'Min: {np.min(nums)}\\n' )\n",
    "    f.write(f'Max: {np.max(nums)}\\n' )\n",
    "    f.write(f'Mean: {np.mean(nums)}\\n' )\n"
   ]
  },
  {
   "cell_type": "markdown",
   "id": "d9ba5ac4-a6fe-454f-af88-74a7c7ef600f",
   "metadata": {},
   "source": [
    "## 5. Introduction to Pandas \n",
    "Reading in data\n",
    "1. Read the file mortgage_applicants.csv, which sits in the data folder, into a variable called mortgage.\n",
    "\n",
    "Hint: Your path will need to reflect the location of the file\n",
    "\n",
    "2. The same data sits in an excel file called mortgage_applicants.xlsx, in a sheet called PrevYear. Read that into another DataFrame called mortgage_excel."
   ]
  },
  {
   "cell_type": "code",
   "execution_count": 30,
   "id": "0324e674-6506-46c4-8ab6-5b612fb681d3",
   "metadata": {},
   "outputs": [],
   "source": [
    "import pandas as pd\n",
    "mortgage = pd.read_csv('data/mortgage_applicants.csv')\n",
    "mortgage_excel = pd.read_excel('data/mortgage_applicants.xlsx', sheet_name='PrevYear')"
   ]
  },
  {
   "cell_type": "markdown",
   "id": "759c7d38-4873-4ce9-88c4-97925544a317",
   "metadata": {},
   "source": [
    "3. Some weather data is held in a file called weather_data.json. Read it\n",
    "into a dataframe called weather."
   ]
  },
  {
   "cell_type": "code",
   "execution_count": 31,
   "id": "52cb7989-7415-4458-a73d-60a28f353eb6",
   "metadata": {},
   "outputs": [],
   "source": [
    "weather1 = pd.read_json(\"data/weather_data.json\")\n",
    "weather = pd.read_json(\"data/weather.json\", orient=\"split\")"
   ]
  },
  {
   "cell_type": "markdown",
   "id": "8dbf2a6a-7ab5-4a15-ad73-63b482ce74f0",
   "metadata": {},
   "source": [
    "Changing types and parsing times\n",
    "1. What data type has each column in mortgage been read in as? Use a\n",
    "method to find out.\n",
    "2. Convert the ID column so that it is instead represented as a Unicode\n",
    "string. Hint: the type is denoted ‘string’"
   ]
  },
  {
   "cell_type": "code",
   "execution_count": 32,
   "id": "9699b3ea-7bbc-4b5b-9cbd-c6536a6ea017",
   "metadata": {},
   "outputs": [
    {
     "name": "stdout",
     "output_type": "stream",
     "text": [
      "<class 'pandas.core.frame.DataFrame'>\n",
      "RangeIndex: 856 entries, 0 to 855\n",
      "Data columns (total 8 columns):\n",
      " #   Column      Non-Null Count  Dtype  \n",
      "---  ------      --------------  -----  \n",
      " 0   Unnamed: 0  856 non-null    int64  \n",
      " 1   ID          856 non-null    int64  \n",
      " 2   Income      856 non-null    int64  \n",
      " 3   Term        856 non-null    object \n",
      " 4   Balance     856 non-null    int64  \n",
      " 5   Debt        856 non-null    int64  \n",
      " 6   Score       836 non-null    float64\n",
      " 7   Default     856 non-null    bool   \n",
      "dtypes: bool(1), float64(1), int64(5), object(1)\n",
      "memory usage: 47.8+ KB\n"
     ]
    }
   ],
   "source": [
    "mortgage.info()"
   ]
  },
  {
   "cell_type": "code",
   "execution_count": 41,
   "id": "7c9c4fa3-07a9-4e21-b1cc-e69b320b03d2",
   "metadata": {},
   "outputs": [
    {
     "data": {
      "text/plain": [
       "0      567\n",
       "1      523\n",
       "2      544\n",
       "3      370\n",
       "4      756\n",
       "      ... \n",
       "851     71\n",
       "852    932\n",
       "853     39\n",
       "854    283\n",
       "855    847\n",
       "Name: ID, Length: 856, dtype: string"
      ]
     },
     "execution_count": 41,
     "metadata": {},
     "output_type": "execute_result"
    }
   ],
   "source": [
    "mortgage['ID'] = mortgage['ID'].astype('string')\n",
    "mortgage['ID']"
   ]
  },
  {
   "cell_type": "markdown",
   "id": "c65d4da0-e40b-47ad-8a5a-28dcc88f2f9d",
   "metadata": {},
   "source": [
    "3. Convert the day column of the weather Dataframe to an appropriate Type."
   ]
  },
  {
   "cell_type": "code",
   "execution_count": 42,
   "id": "6608e9f2-6866-41ee-8dba-2a3826cbcce0",
   "metadata": {},
   "outputs": [
    {
     "data": {
      "text/plain": [
       "0   2023-07-15\n",
       "1   2023-07-16\n",
       "2   2023-07-17\n",
       "3   2023-07-18\n",
       "4   2023-07-19\n",
       "5   2023-07-20\n",
       "6   2023-07-21\n",
       "7   2023-07-22\n",
       "8   2023-07-23\n",
       "9   2023-07-24\n",
       "Name: day, dtype: datetime64[ns]"
      ]
     },
     "execution_count": 42,
     "metadata": {},
     "output_type": "execute_result"
    }
   ],
   "source": [
    "weather1['day'] = pd.to_datetime(weather1['day'])\n",
    "weather1['day']"
   ]
  },
  {
   "cell_type": "markdown",
   "id": "a225b45c-3836-47b5-b905-1df838413f65",
   "metadata": {},
   "source": [
    "### Querying DataFrames\n",
    "1. Compute the monthly earnings of mortgage applicants, just using\n",
    "Income.\n",
    "\n"
   ]
  },
  {
   "cell_type": "code",
   "execution_count": 44,
   "id": "16974ceb-e364-4a5e-afae-ebc094fae07b",
   "metadata": {},
   "outputs": [
    {
     "data": {
      "text/plain": [
       "0      1468.833333\n",
       "1      1579.916667\n",
       "2      1713.333333\n",
       "3      1824.500000\n",
       "4      2035.833333\n",
       "          ...     \n",
       "851    2515.916667\n",
       "852    3472.416667\n",
       "853    3068.000000\n",
       "854    3512.083333\n",
       "855    2549.500000\n",
       "Name: Income, Length: 856, dtype: float64"
      ]
     },
     "execution_count": 44,
     "metadata": {},
     "output_type": "execute_result"
    }
   ],
   "source": [
    "mortgage['Income'] /12"
   ]
  },
  {
   "cell_type": "markdown",
   "id": "15724ebc-490b-487d-bab9-970dd85d54f1",
   "metadata": {},
   "source": [
    "2. Compute the ratio of debts to assets for each mortgage applicant."
   ]
  },
  {
   "cell_type": "code",
   "execution_count": 45,
   "id": "6ebb3838-0003-4835-9d33-392ebda74cbf",
   "metadata": {},
   "outputs": [
    {
     "data": {
      "text/plain": [
       "0      0.016623\n",
       "1      0.053378\n",
       "2      0.043677\n",
       "3      0.003882\n",
       "4      0.002415\n",
       "         ...   \n",
       "851    0.128515\n",
       "852    0.000768\n",
       "853    0.084827\n",
       "854    0.059272\n",
       "855    0.080833\n",
       "Length: 856, dtype: float64"
      ]
     },
     "execution_count": 45,
     "metadata": {},
     "output_type": "execute_result"
    }
   ],
   "source": [
    "mortgage['Debt']/mortgage['Income']"
   ]
  },
  {
   "cell_type": "markdown",
   "id": "b8dc683d-f121-4b03-a973-8a288ac3b037",
   "metadata": {},
   "source": [
    "\n",
    "3. Display all mortgage applicants who have a Balance greater than\n",
    "£1000."
   ]
  },
  {
   "cell_type": "code",
   "execution_count": 46,
   "id": "232639af-a1c4-4f26-9705-f7670c1dbb69",
   "metadata": {},
   "outputs": [
    {
     "data": {
      "text/html": [
       "<div>\n",
       "<style scoped>\n",
       "    .dataframe tbody tr th:only-of-type {\n",
       "        vertical-align: middle;\n",
       "    }\n",
       "\n",
       "    .dataframe tbody tr th {\n",
       "        vertical-align: top;\n",
       "    }\n",
       "\n",
       "    .dataframe thead th {\n",
       "        text-align: right;\n",
       "    }\n",
       "</style>\n",
       "<table border=\"1\" class=\"dataframe\">\n",
       "  <thead>\n",
       "    <tr style=\"text-align: right;\">\n",
       "      <th></th>\n",
       "      <th>Unnamed: 0</th>\n",
       "      <th>ID</th>\n",
       "      <th>Income</th>\n",
       "      <th>Term</th>\n",
       "      <th>Balance</th>\n",
       "      <th>Debt</th>\n",
       "      <th>Score</th>\n",
       "      <th>Default</th>\n",
       "    </tr>\n",
       "  </thead>\n",
       "  <tbody>\n",
       "    <tr>\n",
       "      <th>0</th>\n",
       "      <td>0</td>\n",
       "      <td>567</td>\n",
       "      <td>17626</td>\n",
       "      <td>10 Years</td>\n",
       "      <td>1381</td>\n",
       "      <td>293</td>\n",
       "      <td>228.0</td>\n",
       "      <td>False</td>\n",
       "    </tr>\n",
       "    <tr>\n",
       "      <th>4</th>\n",
       "      <td>4</td>\n",
       "      <td>756</td>\n",
       "      <td>24430</td>\n",
       "      <td>10 Years</td>\n",
       "      <td>1224</td>\n",
       "      <td>59</td>\n",
       "      <td>504.0</td>\n",
       "      <td>False</td>\n",
       "    </tr>\n",
       "    <tr>\n",
       "      <th>5</th>\n",
       "      <td>5</td>\n",
       "      <td>929</td>\n",
       "      <td>22995</td>\n",
       "      <td>20 Years</td>\n",
       "      <td>1678</td>\n",
       "      <td>1329</td>\n",
       "      <td>384.0</td>\n",
       "      <td>False</td>\n",
       "    </tr>\n",
       "    <tr>\n",
       "      <th>6</th>\n",
       "      <td>6</td>\n",
       "      <td>373</td>\n",
       "      <td>21124</td>\n",
       "      <td>10 Years</td>\n",
       "      <td>1135</td>\n",
       "      <td>115</td>\n",
       "      <td>560.0</td>\n",
       "      <td>False</td>\n",
       "    </tr>\n",
       "    <tr>\n",
       "      <th>7</th>\n",
       "      <td>7</td>\n",
       "      <td>818</td>\n",
       "      <td>24644</td>\n",
       "      <td>10 Years</td>\n",
       "      <td>1634</td>\n",
       "      <td>105</td>\n",
       "      <td>309.0</td>\n",
       "      <td>False</td>\n",
       "    </tr>\n",
       "    <tr>\n",
       "      <th>...</th>\n",
       "      <td>...</td>\n",
       "      <td>...</td>\n",
       "      <td>...</td>\n",
       "      <td>...</td>\n",
       "      <td>...</td>\n",
       "      <td>...</td>\n",
       "      <td>...</td>\n",
       "      <td>...</td>\n",
       "    </tr>\n",
       "    <tr>\n",
       "      <th>851</th>\n",
       "      <td>851</td>\n",
       "      <td>71</td>\n",
       "      <td>30191</td>\n",
       "      <td>20 Years</td>\n",
       "      <td>1319</td>\n",
       "      <td>3880</td>\n",
       "      <td>55.0</td>\n",
       "      <td>True</td>\n",
       "    </tr>\n",
       "    <tr>\n",
       "      <th>852</th>\n",
       "      <td>852</td>\n",
       "      <td>932</td>\n",
       "      <td>41669</td>\n",
       "      <td>20 Years</td>\n",
       "      <td>1385</td>\n",
       "      <td>32</td>\n",
       "      <td>780.0</td>\n",
       "      <td>False</td>\n",
       "    </tr>\n",
       "    <tr>\n",
       "      <th>853</th>\n",
       "      <td>853</td>\n",
       "      <td>39</td>\n",
       "      <td>36816</td>\n",
       "      <td>20 Years</td>\n",
       "      <td>1868</td>\n",
       "      <td>3123</td>\n",
       "      <td>366.0</td>\n",
       "      <td>True</td>\n",
       "    </tr>\n",
       "    <tr>\n",
       "      <th>854</th>\n",
       "      <td>854</td>\n",
       "      <td>283</td>\n",
       "      <td>42145</td>\n",
       "      <td>20 Years</td>\n",
       "      <td>1447</td>\n",
       "      <td>2498</td>\n",
       "      <td>422.0</td>\n",
       "      <td>False</td>\n",
       "    </tr>\n",
       "    <tr>\n",
       "      <th>855</th>\n",
       "      <td>855</td>\n",
       "      <td>847</td>\n",
       "      <td>30594</td>\n",
       "      <td>20 Years</td>\n",
       "      <td>1216</td>\n",
       "      <td>2473</td>\n",
       "      <td>179.0</td>\n",
       "      <td>True</td>\n",
       "    </tr>\n",
       "  </tbody>\n",
       "</table>\n",
       "<p>543 rows × 8 columns</p>\n",
       "</div>"
      ],
      "text/plain": [
       "     Unnamed: 0   ID  Income      Term  Balance  Debt  Score  Default\n",
       "0             0  567   17626  10 Years     1381   293  228.0    False\n",
       "4             4  756   24430  10 Years     1224    59  504.0    False\n",
       "5             5  929   22995  20 Years     1678  1329  384.0    False\n",
       "6             6  373   21124  10 Years     1135   115  560.0    False\n",
       "7             7  818   24644  10 Years     1634   105  309.0    False\n",
       "..          ...  ...     ...       ...      ...   ...    ...      ...\n",
       "851         851   71   30191  20 Years     1319  3880   55.0     True\n",
       "852         852  932   41669  20 Years     1385    32  780.0    False\n",
       "853         853   39   36816  20 Years     1868  3123  366.0     True\n",
       "854         854  283   42145  20 Years     1447  2498  422.0    False\n",
       "855         855  847   30594  20 Years     1216  2473  179.0     True\n",
       "\n",
       "[543 rows x 8 columns]"
      ]
     },
     "execution_count": 46,
     "metadata": {},
     "output_type": "execute_result"
    }
   ],
   "source": [
    "mortgage[mortgage['Balance']>1000]"
   ]
  },
  {
   "cell_type": "markdown",
   "id": "7f353eb8-8d06-49fb-8d30-e8dc071a4463",
   "metadata": {},
   "source": [
    "\n",
    "4. Display all mortgage applicants who have a Balance greater than\n",
    "£1000 and a Debt below £50."
   ]
  },
  {
   "cell_type": "code",
   "execution_count": 47,
   "id": "ba4fb557-b887-4c08-8d9d-e87a64064958",
   "metadata": {},
   "outputs": [
    {
     "data": {
      "text/html": [
       "<div>\n",
       "<style scoped>\n",
       "    .dataframe tbody tr th:only-of-type {\n",
       "        vertical-align: middle;\n",
       "    }\n",
       "\n",
       "    .dataframe tbody tr th {\n",
       "        vertical-align: top;\n",
       "    }\n",
       "\n",
       "    .dataframe thead th {\n",
       "        text-align: right;\n",
       "    }\n",
       "</style>\n",
       "<table border=\"1\" class=\"dataframe\">\n",
       "  <thead>\n",
       "    <tr style=\"text-align: right;\">\n",
       "      <th></th>\n",
       "      <th>Unnamed: 0</th>\n",
       "      <th>ID</th>\n",
       "      <th>Income</th>\n",
       "      <th>Term</th>\n",
       "      <th>Balance</th>\n",
       "      <th>Debt</th>\n",
       "      <th>Score</th>\n",
       "      <th>Default</th>\n",
       "    </tr>\n",
       "  </thead>\n",
       "  <tbody>\n",
       "    <tr>\n",
       "      <th>12</th>\n",
       "      <td>12</td>\n",
       "      <td>327</td>\n",
       "      <td>18630</td>\n",
       "      <td>20 Years</td>\n",
       "      <td>1316</td>\n",
       "      <td>37</td>\n",
       "      <td>430.0</td>\n",
       "      <td>False</td>\n",
       "    </tr>\n",
       "    <tr>\n",
       "      <th>54</th>\n",
       "      <td>54</td>\n",
       "      <td>608</td>\n",
       "      <td>25267</td>\n",
       "      <td>10 Years</td>\n",
       "      <td>1308</td>\n",
       "      <td>2</td>\n",
       "      <td>470.0</td>\n",
       "      <td>False</td>\n",
       "    </tr>\n",
       "    <tr>\n",
       "      <th>56</th>\n",
       "      <td>56</td>\n",
       "      <td>67</td>\n",
       "      <td>20528</td>\n",
       "      <td>10 Years</td>\n",
       "      <td>1253</td>\n",
       "      <td>40</td>\n",
       "      <td>511.0</td>\n",
       "      <td>False</td>\n",
       "    </tr>\n",
       "    <tr>\n",
       "      <th>59</th>\n",
       "      <td>59</td>\n",
       "      <td>316</td>\n",
       "      <td>16142</td>\n",
       "      <td>10 Years</td>\n",
       "      <td>1251</td>\n",
       "      <td>12</td>\n",
       "      <td>281.0</td>\n",
       "      <td>False</td>\n",
       "    </tr>\n",
       "    <tr>\n",
       "      <th>66</th>\n",
       "      <td>66</td>\n",
       "      <td>472</td>\n",
       "      <td>19400</td>\n",
       "      <td>10 Years</td>\n",
       "      <td>1292</td>\n",
       "      <td>24</td>\n",
       "      <td>235.0</td>\n",
       "      <td>False</td>\n",
       "    </tr>\n",
       "    <tr>\n",
       "      <th>...</th>\n",
       "      <td>...</td>\n",
       "      <td>...</td>\n",
       "      <td>...</td>\n",
       "      <td>...</td>\n",
       "      <td>...</td>\n",
       "      <td>...</td>\n",
       "      <td>...</td>\n",
       "      <td>...</td>\n",
       "    </tr>\n",
       "    <tr>\n",
       "      <th>841</th>\n",
       "      <td>841</td>\n",
       "      <td>575</td>\n",
       "      <td>36132</td>\n",
       "      <td>10 Years</td>\n",
       "      <td>1596</td>\n",
       "      <td>1</td>\n",
       "      <td>992.0</td>\n",
       "      <td>False</td>\n",
       "    </tr>\n",
       "    <tr>\n",
       "      <th>842</th>\n",
       "      <td>842</td>\n",
       "      <td>324</td>\n",
       "      <td>23597</td>\n",
       "      <td>20 Years</td>\n",
       "      <td>1419</td>\n",
       "      <td>6</td>\n",
       "      <td>465.0</td>\n",
       "      <td>False</td>\n",
       "    </tr>\n",
       "    <tr>\n",
       "      <th>847</th>\n",
       "      <td>847</td>\n",
       "      <td>96</td>\n",
       "      <td>26553</td>\n",
       "      <td>20 Years</td>\n",
       "      <td>1805</td>\n",
       "      <td>26</td>\n",
       "      <td>491.0</td>\n",
       "      <td>False</td>\n",
       "    </tr>\n",
       "    <tr>\n",
       "      <th>850</th>\n",
       "      <td>850</td>\n",
       "      <td>627</td>\n",
       "      <td>27676</td>\n",
       "      <td>10 Years</td>\n",
       "      <td>1598</td>\n",
       "      <td>39</td>\n",
       "      <td>445.0</td>\n",
       "      <td>False</td>\n",
       "    </tr>\n",
       "    <tr>\n",
       "      <th>852</th>\n",
       "      <td>852</td>\n",
       "      <td>932</td>\n",
       "      <td>41669</td>\n",
       "      <td>20 Years</td>\n",
       "      <td>1385</td>\n",
       "      <td>32</td>\n",
       "      <td>780.0</td>\n",
       "      <td>False</td>\n",
       "    </tr>\n",
       "  </tbody>\n",
       "</table>\n",
       "<p>119 rows × 8 columns</p>\n",
       "</div>"
      ],
      "text/plain": [
       "     Unnamed: 0   ID  Income      Term  Balance  Debt  Score  Default\n",
       "12           12  327   18630  20 Years     1316    37  430.0    False\n",
       "54           54  608   25267  10 Years     1308     2  470.0    False\n",
       "56           56   67   20528  10 Years     1253    40  511.0    False\n",
       "59           59  316   16142  10 Years     1251    12  281.0    False\n",
       "66           66  472   19400  10 Years     1292    24  235.0    False\n",
       "..          ...  ...     ...       ...      ...   ...    ...      ...\n",
       "841         841  575   36132  10 Years     1596     1  992.0    False\n",
       "842         842  324   23597  20 Years     1419     6  465.0    False\n",
       "847         847   96   26553  20 Years     1805    26  491.0    False\n",
       "850         850  627   27676  10 Years     1598    39  445.0    False\n",
       "852         852  932   41669  20 Years     1385    32  780.0    False\n",
       "\n",
       "[119 rows x 8 columns]"
      ]
     },
     "execution_count": 47,
     "metadata": {},
     "output_type": "execute_result"
    }
   ],
   "source": [
    "mortgage[(mortgage['Balance']>1000) & (mortgage['Debt']<50)]"
   ]
  },
  {
   "cell_type": "markdown",
   "id": "308920f5-d10a-488c-a0f7-c5bbca8e4974",
   "metadata": {},
   "source": [
    "\n",
    "5. Display all loan applicants who have an Income greater than 30,000\n",
    "who have a 10-year loan, and those with an Income greater than 20,000\n",
    "who have a 20-year loan (together!)"
   ]
  },
  {
   "cell_type": "code",
   "execution_count": 49,
   "id": "f7ea48be-7666-465a-9e72-f1fc56733cd1",
   "metadata": {},
   "outputs": [
    {
     "data": {
      "text/html": [
       "<div>\n",
       "<style scoped>\n",
       "    .dataframe tbody tr th:only-of-type {\n",
       "        vertical-align: middle;\n",
       "    }\n",
       "\n",
       "    .dataframe tbody tr th {\n",
       "        vertical-align: top;\n",
       "    }\n",
       "\n",
       "    .dataframe thead th {\n",
       "        text-align: right;\n",
       "    }\n",
       "</style>\n",
       "<table border=\"1\" class=\"dataframe\">\n",
       "  <thead>\n",
       "    <tr style=\"text-align: right;\">\n",
       "      <th></th>\n",
       "      <th>Unnamed: 0</th>\n",
       "      <th>ID</th>\n",
       "      <th>Income</th>\n",
       "      <th>Term</th>\n",
       "      <th>Balance</th>\n",
       "      <th>Debt</th>\n",
       "      <th>Score</th>\n",
       "      <th>Default</th>\n",
       "    </tr>\n",
       "  </thead>\n",
       "  <tbody>\n",
       "    <tr>\n",
       "      <th>5</th>\n",
       "      <td>5</td>\n",
       "      <td>929</td>\n",
       "      <td>22995</td>\n",
       "      <td>20 Years</td>\n",
       "      <td>1678</td>\n",
       "      <td>1329</td>\n",
       "      <td>384.0</td>\n",
       "      <td>False</td>\n",
       "    </tr>\n",
       "    <tr>\n",
       "      <th>8</th>\n",
       "      <td>8</td>\n",
       "      <td>284</td>\n",
       "      <td>27138</td>\n",
       "      <td>20 Years</td>\n",
       "      <td>840</td>\n",
       "      <td>1877</td>\n",
       "      <td>251.0</td>\n",
       "      <td>False</td>\n",
       "    </tr>\n",
       "    <tr>\n",
       "      <th>22</th>\n",
       "      <td>22</td>\n",
       "      <td>616</td>\n",
       "      <td>22869</td>\n",
       "      <td>20 Years</td>\n",
       "      <td>1150</td>\n",
       "      <td>803</td>\n",
       "      <td>431.0</td>\n",
       "      <td>True</td>\n",
       "    </tr>\n",
       "    <tr>\n",
       "      <th>32</th>\n",
       "      <td>32</td>\n",
       "      <td>740</td>\n",
       "      <td>22259</td>\n",
       "      <td>20 Years</td>\n",
       "      <td>985</td>\n",
       "      <td>1906</td>\n",
       "      <td>152.0</td>\n",
       "      <td>True</td>\n",
       "    </tr>\n",
       "    <tr>\n",
       "      <th>50</th>\n",
       "      <td>50</td>\n",
       "      <td>789</td>\n",
       "      <td>23557</td>\n",
       "      <td>20 Years</td>\n",
       "      <td>819</td>\n",
       "      <td>79</td>\n",
       "      <td>350.0</td>\n",
       "      <td>False</td>\n",
       "    </tr>\n",
       "    <tr>\n",
       "      <th>...</th>\n",
       "      <td>...</td>\n",
       "      <td>...</td>\n",
       "      <td>...</td>\n",
       "      <td>...</td>\n",
       "      <td>...</td>\n",
       "      <td>...</td>\n",
       "      <td>...</td>\n",
       "      <td>...</td>\n",
       "    </tr>\n",
       "    <tr>\n",
       "      <th>851</th>\n",
       "      <td>851</td>\n",
       "      <td>71</td>\n",
       "      <td>30191</td>\n",
       "      <td>20 Years</td>\n",
       "      <td>1319</td>\n",
       "      <td>3880</td>\n",
       "      <td>55.0</td>\n",
       "      <td>True</td>\n",
       "    </tr>\n",
       "    <tr>\n",
       "      <th>852</th>\n",
       "      <td>852</td>\n",
       "      <td>932</td>\n",
       "      <td>41669</td>\n",
       "      <td>20 Years</td>\n",
       "      <td>1385</td>\n",
       "      <td>32</td>\n",
       "      <td>780.0</td>\n",
       "      <td>False</td>\n",
       "    </tr>\n",
       "    <tr>\n",
       "      <th>853</th>\n",
       "      <td>853</td>\n",
       "      <td>39</td>\n",
       "      <td>36816</td>\n",
       "      <td>20 Years</td>\n",
       "      <td>1868</td>\n",
       "      <td>3123</td>\n",
       "      <td>366.0</td>\n",
       "      <td>True</td>\n",
       "    </tr>\n",
       "    <tr>\n",
       "      <th>854</th>\n",
       "      <td>854</td>\n",
       "      <td>283</td>\n",
       "      <td>42145</td>\n",
       "      <td>20 Years</td>\n",
       "      <td>1447</td>\n",
       "      <td>2498</td>\n",
       "      <td>422.0</td>\n",
       "      <td>False</td>\n",
       "    </tr>\n",
       "    <tr>\n",
       "      <th>855</th>\n",
       "      <td>855</td>\n",
       "      <td>847</td>\n",
       "      <td>30594</td>\n",
       "      <td>20 Years</td>\n",
       "      <td>1216</td>\n",
       "      <td>2473</td>\n",
       "      <td>179.0</td>\n",
       "      <td>True</td>\n",
       "    </tr>\n",
       "  </tbody>\n",
       "</table>\n",
       "<p>403 rows × 8 columns</p>\n",
       "</div>"
      ],
      "text/plain": [
       "     Unnamed: 0   ID  Income      Term  Balance  Debt  Score  Default\n",
       "5             5  929   22995  20 Years     1678  1329  384.0    False\n",
       "8             8  284   27138  20 Years      840  1877  251.0    False\n",
       "22           22  616   22869  20 Years     1150   803  431.0     True\n",
       "32           32  740   22259  20 Years      985  1906  152.0     True\n",
       "50           50  789   23557  20 Years      819    79  350.0    False\n",
       "..          ...  ...     ...       ...      ...   ...    ...      ...\n",
       "851         851   71   30191  20 Years     1319  3880   55.0     True\n",
       "852         852  932   41669  20 Years     1385    32  780.0    False\n",
       "853         853   39   36816  20 Years     1868  3123  366.0     True\n",
       "854         854  283   42145  20 Years     1447  2498  422.0    False\n",
       "855         855  847   30594  20 Years     1216  2473  179.0     True\n",
       "\n",
       "[403 rows x 8 columns]"
      ]
     },
     "execution_count": 49,
     "metadata": {},
     "output_type": "execute_result"
    }
   ],
   "source": [
    "mortgage[((mortgage['Income']>30000) & (mortgage['Term'] == '10 Years')) | ((mortgage['Income']>20000) & (mortgage['Term'] == '20 Years'))]\n"
   ]
  },
  {
   "cell_type": "markdown",
   "id": "5d2bf01a-4d54-45e9-8ed1-5122af425580",
   "metadata": {},
   "source": [
    "## Aggregating DataFrames\n",
    "1. Compute the average Balance of mortgage applicants depending on\n",
    "the Term of their loan."
   ]
  },
  {
   "cell_type": "code",
   "execution_count": 50,
   "id": "642b81a6-fc7f-4f5a-9070-8ddb4bcefbb0",
   "metadata": {},
   "outputs": [
    {
     "data": {
      "text/plain": [
       "Term\n",
       "10 Years    1155.763699\n",
       "20 Years    1334.095588\n",
       "Name: Balance, dtype: float64"
      ]
     },
     "execution_count": 50,
     "metadata": {},
     "output_type": "execute_result"
    }
   ],
   "source": [
    "mortgage.groupby('Term')['Balance'].mean()"
   ]
  },
  {
   "cell_type": "markdown",
   "id": "c38cced9-ef83-47a6-a82e-55b833eb9d06",
   "metadata": {},
   "source": [
    "\n",
    "2. Compute the average Income of mortgage applicants depending on\n",
    "whether they defaulted or not."
   ]
  },
  {
   "cell_type": "code",
   "execution_count": 52,
   "id": "2223de5c-4a6a-4810-a225-abfafb018686",
   "metadata": {},
   "outputs": [
    {
     "data": {
      "text/plain": [
       "Default\n",
       "False    30315.666667\n",
       "True     26438.409091\n",
       "Name: Income, dtype: float64"
      ]
     },
     "execution_count": 52,
     "metadata": {},
     "output_type": "execute_result"
    }
   ],
   "source": [
    "mortgage.groupby('Default')['Income'].mean()"
   ]
  },
  {
   "cell_type": "markdown",
   "id": "3aa2ff0b-ee08-4489-8db9-4eccde5f7297",
   "metadata": {},
   "source": [
    "\n",
    "3. Compute the average Debt, Income, and Balance of mortgage \n",
    "applicants based on whether they defaulted or not, and the term of\n",
    "their loan."
   ]
  },
  {
   "cell_type": "code",
   "execution_count": 64,
   "id": "24325ce7-8b71-47fc-b8e1-4773f8b8b4ff",
   "metadata": {},
   "outputs": [
    {
     "data": {
      "text/html": [
       "<div>\n",
       "<style scoped>\n",
       "    .dataframe tbody tr th:only-of-type {\n",
       "        vertical-align: middle;\n",
       "    }\n",
       "\n",
       "    .dataframe tbody tr th {\n",
       "        vertical-align: top;\n",
       "    }\n",
       "\n",
       "    .dataframe thead th {\n",
       "        text-align: right;\n",
       "    }\n",
       "</style>\n",
       "<table border=\"1\" class=\"dataframe\">\n",
       "  <thead>\n",
       "    <tr style=\"text-align: right;\">\n",
       "      <th></th>\n",
       "      <th></th>\n",
       "      <th>Debt</th>\n",
       "      <th>Income</th>\n",
       "      <th>Balance</th>\n",
       "    </tr>\n",
       "    <tr>\n",
       "      <th>Term</th>\n",
       "      <th>Default</th>\n",
       "      <th></th>\n",
       "      <th></th>\n",
       "      <th></th>\n",
       "    </tr>\n",
       "  </thead>\n",
       "  <tbody>\n",
       "    <tr>\n",
       "      <th rowspan=\"2\" valign=\"top\">10 Years</th>\n",
       "      <th>False</th>\n",
       "      <td>546.523719</td>\n",
       "      <td>28228.009488</td>\n",
       "      <td>1161.590133</td>\n",
       "    </tr>\n",
       "    <tr>\n",
       "      <th>True</th>\n",
       "      <td>1805.561404</td>\n",
       "      <td>23848.526316</td>\n",
       "      <td>1101.894737</td>\n",
       "    </tr>\n",
       "    <tr>\n",
       "      <th rowspan=\"2\" valign=\"top\">20 Years</th>\n",
       "      <th>False</th>\n",
       "      <td>631.228216</td>\n",
       "      <td>34880.792531</td>\n",
       "      <td>1344.688797</td>\n",
       "    </tr>\n",
       "    <tr>\n",
       "      <th>True</th>\n",
       "      <td>1904.935484</td>\n",
       "      <td>31200.451613</td>\n",
       "      <td>1251.741935</td>\n",
       "    </tr>\n",
       "  </tbody>\n",
       "</table>\n",
       "</div>"
      ],
      "text/plain": [
       "                         Debt        Income      Balance\n",
       "Term     Default                                        \n",
       "10 Years False     546.523719  28228.009488  1161.590133\n",
       "         True     1805.561404  23848.526316  1101.894737\n",
       "20 Years False     631.228216  34880.792531  1344.688797\n",
       "         True     1904.935484  31200.451613  1251.741935"
      ]
     },
     "execution_count": 64,
     "metadata": {},
     "output_type": "execute_result"
    }
   ],
   "source": [
    "mortgage.groupby(['Term','Default'])[['Debt', 'Income','Balance']].mean()"
   ]
  },
  {
   "cell_type": "markdown",
   "id": "d1d3a603-9761-4f26-bfcf-01a7ab6214b4",
   "metadata": {},
   "source": [
    "\n",
    "4. Add a column to the DataFrame called MeanTermIncome, which\n",
    "contains the mean Income of mortgage applicants based on their Term."
   ]
  },
  {
   "cell_type": "code",
   "execution_count": 63,
   "id": "d53a4db8-fa4f-4a24-a83b-17de4ef85202",
   "metadata": {},
   "outputs": [
    {
     "data": {
      "text/plain": [
       "0      27800.559932\n",
       "1      34461.341912\n",
       "2      27800.559932\n",
       "3      27800.559932\n",
       "4      27800.559932\n",
       "           ...     \n",
       "851    34461.341912\n",
       "852    34461.341912\n",
       "853    34461.341912\n",
       "854    34461.341912\n",
       "855    34461.341912\n",
       "Name: MeanTermIncome, Length: 856, dtype: float64"
      ]
     },
     "execution_count": 63,
     "metadata": {},
     "output_type": "execute_result"
    }
   ],
   "source": [
    "mortgage['MeanTermIncome'] = mortgage.groupby('Term')['Income'].transform('mean')\n",
    "mortgage['MeanTermIncome']"
   ]
  },
  {
   "cell_type": "markdown",
   "id": "89a1c17a-3e55-41a1-ad0b-732d11bcbd70",
   "metadata": {},
   "source": [
    "Data Visualisation with Pandas:\n",
    "Methods for visualising data\n",
    "1. Load in the dataset train_viz.csv.\n",
    "2. Create a scatter plot of duration vs. price. Segment by destination.\n"
   ]
  },
  {
   "cell_type": "code",
   "execution_count": 72,
   "id": "7c64f3ec-c55e-4af2-8b6a-5add6c8a5fce",
   "metadata": {},
   "outputs": [],
   "source": [
    "import matplotlib.pyplot as plt\n",
    "import seaborn as sns\n",
    "train_viz = pd.read_csv('data/train_viz.csv')"
   ]
  },
  {
   "cell_type": "code",
   "execution_count": 73,
   "id": "9de21a64-a024-4700-96c1-83acf3c7d4d3",
   "metadata": {},
   "outputs": [
    {
     "data": {
      "text/plain": [
       "<Axes: xlabel='duration', ylabel='price'>"
      ]
     },
     "execution_count": 73,
     "metadata": {},
     "output_type": "execute_result"
    },
    {
     "data": {
      "image/png": "[encoded data removed]",
      "text/plain": [
       "<Figure size 640x480 with 1 Axes>"
      ]
     },
     "metadata": {},
     "output_type": "display_data"
    }
   ],
   "source": [
    "sns.scatterplot(data=train_viz, x=\"duration\", y=\"price\", hue=\"destination\", s=5, alpha = 0.5)"
   ]
  },
  {
   "cell_type": "markdown",
   "id": "7240e003-6149-4453-b584-7a25c8461aea",
   "metadata": {},
   "source": [
    "3. Create a barplot of fare counts."
   ]
  },
  {
   "cell_type": "code",
   "execution_count": 78,
   "id": "a0c19d4f-d1f4-4516-9f8b-3dcf8c247bbb",
   "metadata": {},
   "outputs": [
    {
     "data": {
      "text/plain": [
       "fare\n",
       "Promo                      19248\n",
       "Flexible                    7390\n",
       "Promo +                     2383\n",
       "Adulto ida                   367\n",
       "YOVOY                        163\n",
       "Básica                       151\n",
       "COD.PROMOCIONAL               12\n",
       "Mesa                           5\n",
       "Individual-Flexible            3\n",
       "Doble Familiar-Flexible        2\n",
       "Name: count, dtype: int64"
      ]
     },
     "execution_count": 78,
     "metadata": {},
     "output_type": "execute_result"
    }
   ],
   "source": [
    "train_viz['fare'].value_counts()"
   ]
  },
  {
   "cell_type": "code",
   "execution_count": 81,
   "id": "c35e49a3-2ce5-4cab-8f36-90582ce0581e",
   "metadata": {},
   "outputs": [
    {
     "data": {
      "text/plain": [
       "<Axes: ylabel='fare'>"
      ]
     },
     "execution_count": 81,
     "metadata": {},
     "output_type": "execute_result"
    },
    {
     "data": {
      "image/png": "[encoded data removed]",
      "text/plain": [
       "<Figure size 640x480 with 1 Axes>"
      ]
     },
     "metadata": {},
     "output_type": "display_data"
    }
   ],
   "source": [
    "sns.barplot(data=train_viz, y=\"fare\")"
   ]
  },
  {
   "cell_type": "markdown",
   "id": "771c7d54-b118-4687-b984-1d28e595671c",
   "metadata": {},
   "source": [
    "4. Create a box & whisker plot of price with respect to destination."
   ]
  },
  {
   "cell_type": "code",
   "execution_count": 83,
   "id": "3fdddf73-8c92-495e-a543-ceaddf4aa330",
   "metadata": {},
   "outputs": [
    {
     "data": {
      "text/plain": [
       "<Axes: xlabel='destination', ylabel='price'>"
      ]
     },
     "execution_count": 83,
     "metadata": {},
     "output_type": "execute_result"
    },
    {
     "data": {
      "image/png": "[encoded data removed]",
      "text/plain": [
       "<Figure size 640x480 with 1 Axes>"
      ]
     },
     "metadata": {},
     "output_type": "display_data"
    }
   ],
   "source": [
    "sns.boxplot(train_viz, y='price', x='destination')"
   ]
  },
  {
   "cell_type": "markdown",
   "id": "6224d91d-161f-4c65-a693-8a6c3b2b456d",
   "metadata": {},
   "source": [
    "5. Create a histogram of duration."
   ]
  },
  {
   "cell_type": "code",
   "execution_count": 84,
   "id": "e3dbfe2d-eb89-4eb2-92fa-8c561749b03e",
   "metadata": {},
   "outputs": [
    {
     "data": {
      "text/plain": [
       "<Axes: xlabel='duration', ylabel='Count'>"
      ]
     },
     "execution_count": 84,
     "metadata": {},
     "output_type": "execute_result"
    },
    {
     "data": {
      "image/png": "[encoded data removed]",
      "text/plain": [
       "<Figure size 640x480 with 1 Axes>"
      ]
     },
     "metadata": {},
     "output_type": "display_data"
    }
   ],
   "source": [
    "sns.histplot(train_viz,x=\"duration\")"
   ]
  },
  {
   "cell_type": "code",
   "execution_count": null,
   "id": "fed86b26-05d4-4bae-8529-a53b051aa0bf",
   "metadata": {},
   "outputs": [],
   "source": [
    "6. Compare this to a histogram of price."
   ]
  },
  {
   "cell_type": "code",
   "execution_count": null,
   "id": "0784eaa2-3558-4a1b-b6dd-f4e527c1d6cc",
   "metadata": {},
   "outputs": [],
   "source": [
    "7. Create a violin plot of price with respect to destination."
   ]
  },
  {
   "cell_type": "code",
   "execution_count": null,
   "id": "e365543a-2eae-40bb-91c6-c5c227edf3ae",
   "metadata": {},
   "outputs": [],
   "source": [
    "8. Create a heatmap of the correlation between columns."
   ]
  },
  {
   "cell_type": "code",
   "execution_count": null,
   "id": "ab18f137-c562-41bd-8e1a-a62df7dcc012",
   "metadata": {},
   "outputs": [],
   "source": [
    "9. Create a proportional stacked bar plot of vehicle_class by destination"
   ]
  },
  {
   "cell_type": "code",
   "execution_count": null,
   "id": "614a0d6b-e68b-45f6-bb1c-a68e1f732825",
   "metadata": {},
   "outputs": [],
   "source": []
  },
  {
   "cell_type": "markdown",
   "id": "584fb095-240c-484d-b8bc-87c400bd62b7",
   "metadata": {},
   "source": [
    "## Data Cleaning with Pandas\n",
    "Load in the dataset renfe_trains.csv.\n",
    "Initial data inspection\n",
    "1. Inspect the columns of the DataFrame. Specifically, consider the type of\n",
    "each column and whether it seems reasonable. If not, investigate why."
   ]
  },
  {
   "cell_type": "code",
   "execution_count": 65,
   "id": "8712d534-4f6f-410b-a690-29197226c811",
   "metadata": {
    "scrolled": true
   },
   "outputs": [
    {
     "data": {
      "text/html": [
       "<div>\n",
       "<style scoped>\n",
       "    .dataframe tbody tr th:only-of-type {\n",
       "        vertical-align: middle;\n",
       "    }\n",
       "\n",
       "    .dataframe tbody tr th {\n",
       "        vertical-align: top;\n",
       "    }\n",
       "\n",
       "    .dataframe thead th {\n",
       "        text-align: right;\n",
       "    }\n",
       "</style>\n",
       "<table border=\"1\" class=\"dataframe\">\n",
       "  <thead>\n",
       "    <tr style=\"text-align: right;\">\n",
       "      <th></th>\n",
       "      <th>company</th>\n",
       "      <th>origin</th>\n",
       "      <th>destination</th>\n",
       "      <th>departure</th>\n",
       "      <th>arrival</th>\n",
       "      <th>vehicle_class</th>\n",
       "      <th>price</th>\n",
       "      <th>fare</th>\n",
       "    </tr>\n",
       "  </thead>\n",
       "  <tbody>\n",
       "    <tr>\n",
       "      <th>0</th>\n",
       "      <td>renfe</td>\n",
       "      <td>MADRID</td>\n",
       "      <td>SEVILLA</td>\n",
       "      <td>2019-05-07 19:00:00</td>\n",
       "      <td>2019-05-07 21:38:00</td>\n",
       "      <td>Preferente</td>\n",
       "      <td>69.4</td>\n",
       "      <td>Promo</td>\n",
       "    </tr>\n",
       "    <tr>\n",
       "      <th>1</th>\n",
       "      <td>renfe</td>\n",
       "      <td>MADRID</td>\n",
       "      <td>SEVILLA</td>\n",
       "      <td>2019-05-07 21:25:00</td>\n",
       "      <td>2019-05-08 00:10:00</td>\n",
       "      <td>Turista</td>\n",
       "      <td>43.55</td>\n",
       "      <td>Promo</td>\n",
       "    </tr>\n",
       "    <tr>\n",
       "      <th>2</th>\n",
       "      <td>renfe</td>\n",
       "      <td>MADRID</td>\n",
       "      <td>BARCELONA</td>\n",
       "      <td>2019-05-11 08:30:00</td>\n",
       "      <td>2019-05-11 11:15:00</td>\n",
       "      <td>Turista</td>\n",
       "      <td>85.1</td>\n",
       "      <td>Promo</td>\n",
       "    </tr>\n",
       "    <tr>\n",
       "      <th>3</th>\n",
       "      <td>renfe</td>\n",
       "      <td>MADRID</td>\n",
       "      <td>BARCELONA</td>\n",
       "      <td>2019-04-18 14:30:00</td>\n",
       "      <td>2019-04-18 17:21:00</td>\n",
       "      <td>Turista</td>\n",
       "      <td>107.7</td>\n",
       "      <td>Flexible</td>\n",
       "    </tr>\n",
       "    <tr>\n",
       "      <th>4</th>\n",
       "      <td>renfe</td>\n",
       "      <td>MADRID</td>\n",
       "      <td>BARCELONA</td>\n",
       "      <td>2019-04-28 16:30:00</td>\n",
       "      <td>2019-04-28 19:15:00</td>\n",
       "      <td>Turista</td>\n",
       "      <td>107.7</td>\n",
       "      <td>Flexible</td>\n",
       "    </tr>\n",
       "  </tbody>\n",
       "</table>\n",
       "</div>"
      ],
      "text/plain": [
       "  company  origin destination            departure              arrival  \\\n",
       "0   renfe  MADRID     SEVILLA  2019-05-07 19:00:00  2019-05-07 21:38:00   \n",
       "1   renfe  MADRID     SEVILLA  2019-05-07 21:25:00  2019-05-08 00:10:00   \n",
       "2   renfe  MADRID   BARCELONA  2019-05-11 08:30:00  2019-05-11 11:15:00   \n",
       "3   renfe  MADRID   BARCELONA  2019-04-18 14:30:00  2019-04-18 17:21:00   \n",
       "4   renfe  MADRID   BARCELONA  2019-04-28 16:30:00  2019-04-28 19:15:00   \n",
       "\n",
       "  vehicle_class  price      fare  \n",
       "0    Preferente   69.4     Promo  \n",
       "1       Turista  43.55     Promo  \n",
       "2       Turista   85.1     Promo  \n",
       "3       Turista  107.7  Flexible  \n",
       "4       Turista  107.7  Flexible  "
      ]
     },
     "execution_count": 65,
     "metadata": {},
     "output_type": "execute_result"
    }
   ],
   "source": [
    "df = pd.read_csv('data/renfe_trains.csv')\n",
    "df.head()"
   ]
  },
  {
   "cell_type": "code",
   "execution_count": 66,
   "id": "18e909ff-6958-4d21-8b0a-a20d0478e3fe",
   "metadata": {},
   "outputs": [
    {
     "name": "stdout",
     "output_type": "stream",
     "text": [
      "<class 'pandas.core.frame.DataFrame'>\n",
      "RangeIndex: 85948 entries, 0 to 85947\n",
      "Data columns (total 8 columns):\n",
      " #   Column         Non-Null Count  Dtype \n",
      "---  ------         --------------  ----- \n",
      " 0   company        85948 non-null  object\n",
      " 1   origin         85948 non-null  object\n",
      " 2   destination    85948 non-null  object\n",
      " 3   departure      85948 non-null  object\n",
      " 4   arrival        85948 non-null  object\n",
      " 5   vehicle_class  77116 non-null  object\n",
      " 6   price          72769 non-null  object\n",
      " 7   fare           77116 non-null  object\n",
      "dtypes: object(8)\n",
      "memory usage: 5.2+ MB\n"
     ]
    }
   ],
   "source": [
    "df.info()"
   ]
  },
  {
   "cell_type": "markdown",
   "id": "28a5fff1-66e1-4f4a-82e9-c1404fbb4e4d",
   "metadata": {},
   "source": [
    "2. It seems like we have some bad values in the price column with the\n",
    "value ‘price’. \n",
    "You can see them by using the method .value_counts().\n",
    "Inspect the specific rows where this is the case."
   ]
  },
  {
   "cell_type": "code",
   "execution_count": null,
   "id": "4bbf3b18-deae-4c64-8a53-cc38ec86571d",
   "metadata": {},
   "outputs": [],
   "source": [
    "df = df.drop(69,axis=0)"
   ]
  },
  {
   "cell_type": "code",
   "execution_count": 90,
   "id": "eb772891-de4d-435c-b81d-31c8ec706b0f",
   "metadata": {},
   "outputs": [
    {
     "data": {
      "text/html": [
       "<div>\n",
       "<style scoped>\n",
       "    .dataframe tbody tr th:only-of-type {\n",
       "        vertical-align: middle;\n",
       "    }\n",
       "\n",
       "    .dataframe tbody tr th {\n",
       "        vertical-align: top;\n",
       "    }\n",
       "\n",
       "    .dataframe thead th {\n",
       "        text-align: right;\n",
       "    }\n",
       "</style>\n",
       "<table border=\"1\" class=\"dataframe\">\n",
       "  <thead>\n",
       "    <tr style=\"text-align: right;\">\n",
       "      <th></th>\n",
       "      <th>company</th>\n",
       "      <th>origin</th>\n",
       "      <th>destination</th>\n",
       "      <th>departure</th>\n",
       "      <th>arrival</th>\n",
       "      <th>vehicle_class</th>\n",
       "      <th>price</th>\n",
       "      <th>fare</th>\n",
       "    </tr>\n",
       "  </thead>\n",
       "  <tbody>\n",
       "    <tr>\n",
       "      <th>67</th>\n",
       "      <td>renfe</td>\n",
       "      <td>MADRID</td>\n",
       "      <td>SEVILLA</td>\n",
       "      <td>2019-06-01 21:25:00</td>\n",
       "      <td>2019-06-02 00:10:00</td>\n",
       "      <td>Turista Plus</td>\n",
       "      <td>52.2</td>\n",
       "      <td>Promo</td>\n",
       "    </tr>\n",
       "    <tr>\n",
       "      <th>68</th>\n",
       "      <td>renfe</td>\n",
       "      <td>MADRID</td>\n",
       "      <td>SEVILLA</td>\n",
       "      <td>2019-05-04 18:00:00</td>\n",
       "      <td>2019-05-04 20:32:00</td>\n",
       "      <td>Turista</td>\n",
       "      <td>76.3</td>\n",
       "      <td>Flexible</td>\n",
       "    </tr>\n",
       "    <tr>\n",
       "      <th>70</th>\n",
       "      <td>renfe</td>\n",
       "      <td>MADRID</td>\n",
       "      <td>BARCELONA</td>\n",
       "      <td>2019-05-27 17:00:00</td>\n",
       "      <td>2019-05-27 19:30:00</td>\n",
       "      <td>Turista</td>\n",
       "      <td>88.95</td>\n",
       "      <td>Promo</td>\n",
       "    </tr>\n",
       "    <tr>\n",
       "      <th>71</th>\n",
       "      <td>renfe</td>\n",
       "      <td>MADRID</td>\n",
       "      <td>SEVILLA</td>\n",
       "      <td>2019-05-18 09:00:00</td>\n",
       "      <td>2019-05-18 11:38:00</td>\n",
       "      <td>Turista</td>\n",
       "      <td>76.3</td>\n",
       "      <td>Flexible</td>\n",
       "    </tr>\n",
       "    <tr>\n",
       "      <th>72</th>\n",
       "      <td>renfe</td>\n",
       "      <td>MADRID</td>\n",
       "      <td>SEVILLA</td>\n",
       "      <td>2019-05-21 08:00:00</td>\n",
       "      <td>2019-05-21 10:32:00</td>\n",
       "      <td>Turista</td>\n",
       "      <td>47.3</td>\n",
       "      <td>Promo</td>\n",
       "    </tr>\n",
       "  </tbody>\n",
       "</table>\n",
       "</div>"
      ],
      "text/plain": [
       "   company  origin destination            departure              arrival  \\\n",
       "67   renfe  MADRID     SEVILLA  2019-06-01 21:25:00  2019-06-02 00:10:00   \n",
       "68   renfe  MADRID     SEVILLA  2019-05-04 18:00:00  2019-05-04 20:32:00   \n",
       "70   renfe  MADRID   BARCELONA  2019-05-27 17:00:00  2019-05-27 19:30:00   \n",
       "71   renfe  MADRID     SEVILLA  2019-05-18 09:00:00  2019-05-18 11:38:00   \n",
       "72   renfe  MADRID     SEVILLA  2019-05-21 08:00:00  2019-05-21 10:32:00   \n",
       "\n",
       "   vehicle_class  price      fare  \n",
       "67  Turista Plus   52.2     Promo  \n",
       "68       Turista   76.3  Flexible  \n",
       "70       Turista  88.95     Promo  \n",
       "71       Turista   76.3  Flexible  \n",
       "72       Turista   47.3     Promo  "
      ]
     },
     "execution_count": 90,
     "metadata": {},
     "output_type": "execute_result"
    }
   ],
   "source": [
    "df.iloc[67:72]"
   ]
  },
  {
   "cell_type": "markdown",
   "id": "8928b1cd-f24e-48b1-8db7-1b7436a7f25e",
   "metadata": {},
   "source": [
    "3. It looks like some sort of error has meant the column names have been\n",
    "fed into the data in intervals. Let’s drop these rows as they are clearly an\n",
    "accident."
   ]
  },
  {
   "cell_type": "code",
   "execution_count": 95,
   "id": "4635a137-87bc-4d9f-86bd-236fbad73203",
   "metadata": {},
   "outputs": [],
   "source": [
    "df = df.drop(df[df.departure=='departure'].index,axis=0)\n"
   ]
  },
  {
   "cell_type": "markdown",
   "id": "ca1d8f7c-fc91-4ea1-899a-9346142f4d3a",
   "metadata": {},
   "source": [
    "4. We can now represent price using the appropriate type. Convert it to\n",
    "the appropriate data type."
   ]
  },
  {
   "cell_type": "code",
   "execution_count": 96,
   "id": "890dd4e7-239f-480a-a8db-24d740d87b6f",
   "metadata": {},
   "outputs": [],
   "source": [
    "df['departure'] = pd.to_datetime(df['departure'])\n",
    "df['arrival'] = pd.to_datetime(df['arrival'])\n",
    "df['price'] = df['price'].astype(float)"
   ]
  },
  {
   "cell_type": "markdown",
   "id": "4a635a74-dcad-471a-a9cf-edabbeb9620e",
   "metadata": {},
   "source": [
    "### Missing values\n",
    "1. Identify whether there are missing values in the DataFrame.\n",
    "2. Which columns are they in?\n",
    "3. Inspect some rows which contain them.\n",
    "4. Drop all rows which have missing `vehicle_class` and `price` and\n",
    "`fare`. Hint: how=’all’\n",
    "5. Run the below code. What does it suggest about ticket price with\n",
    "respect to vehicle_class and fare?\n",
    "```python\n",
    "df[['vehicle_class', 'fare', 'price']].groupby(['vehicle_class', 'fare']).mean()\n",
    "```"
   ]
  },
  {
   "cell_type": "code",
   "execution_count": 99,
   "id": "3ba6459e-03ab-401f-a322-bc5eae7cbe45",
   "metadata": {},
   "outputs": [
    {
     "data": {
      "text/plain": [
       "company          False\n",
       "origin           False\n",
       "destination      False\n",
       "departure        False\n",
       "arrival          False\n",
       "vehicle_class     True\n",
       "price             True\n",
       "fare              True\n",
       "dtype: bool"
      ]
     },
     "execution_count": 99,
     "metadata": {},
     "output_type": "execute_result"
    }
   ],
   "source": [
    "df.isna().any()"
   ]
  },
  {
   "cell_type": "code",
   "execution_count": 100,
   "id": "911b1e90-5292-44a0-8055-eed74a43b9ef",
   "metadata": {},
   "outputs": [
    {
     "data": {
      "text/html": [
       "<div>\n",
       "<style scoped>\n",
       "    .dataframe tbody tr th:only-of-type {\n",
       "        vertical-align: middle;\n",
       "    }\n",
       "\n",
       "    .dataframe tbody tr th {\n",
       "        vertical-align: top;\n",
       "    }\n",
       "\n",
       "    .dataframe thead th {\n",
       "        text-align: right;\n",
       "    }\n",
       "</style>\n",
       "<table border=\"1\" class=\"dataframe\">\n",
       "  <thead>\n",
       "    <tr style=\"text-align: right;\">\n",
       "      <th></th>\n",
       "      <th>company</th>\n",
       "      <th>origin</th>\n",
       "      <th>destination</th>\n",
       "      <th>departure</th>\n",
       "      <th>arrival</th>\n",
       "      <th>vehicle_class</th>\n",
       "      <th>price</th>\n",
       "      <th>fare</th>\n",
       "    </tr>\n",
       "  </thead>\n",
       "  <tbody>\n",
       "    <tr>\n",
       "      <th>33</th>\n",
       "      <td>renfe</td>\n",
       "      <td>MADRID</td>\n",
       "      <td>SEVILLA</td>\n",
       "      <td>2019-04-21 21:25:00</td>\n",
       "      <td>2019-04-22 00:10:00</td>\n",
       "      <td>NaN</td>\n",
       "      <td>NaN</td>\n",
       "      <td>NaN</td>\n",
       "    </tr>\n",
       "    <tr>\n",
       "      <th>533</th>\n",
       "      <td>renfe</td>\n",
       "      <td>MADRID</td>\n",
       "      <td>BARCELONA</td>\n",
       "      <td>2019-04-14 21:25:00</td>\n",
       "      <td>2019-04-14 23:55:00</td>\n",
       "      <td>NaN</td>\n",
       "      <td>NaN</td>\n",
       "      <td>NaN</td>\n",
       "    </tr>\n",
       "    <tr>\n",
       "      <th>1064</th>\n",
       "      <td>renfe</td>\n",
       "      <td>MADRID</td>\n",
       "      <td>BARCELONA</td>\n",
       "      <td>2019-04-18 21:25:00</td>\n",
       "      <td>2019-04-18 23:55:00</td>\n",
       "      <td>NaN</td>\n",
       "      <td>NaN</td>\n",
       "      <td>NaN</td>\n",
       "    </tr>\n",
       "    <tr>\n",
       "      <th>1081</th>\n",
       "      <td>renfe</td>\n",
       "      <td>MADRID</td>\n",
       "      <td>BARCELONA</td>\n",
       "      <td>2019-04-17 21:25:00</td>\n",
       "      <td>2019-04-17 23:55:00</td>\n",
       "      <td>NaN</td>\n",
       "      <td>NaN</td>\n",
       "      <td>NaN</td>\n",
       "    </tr>\n",
       "    <tr>\n",
       "      <th>3120</th>\n",
       "      <td>renfe</td>\n",
       "      <td>MADRID</td>\n",
       "      <td>PONFERRADA</td>\n",
       "      <td>2019-04-30 22:14:00</td>\n",
       "      <td>2019-05-01 04:31:00</td>\n",
       "      <td>NaN</td>\n",
       "      <td>NaN</td>\n",
       "      <td>NaN</td>\n",
       "    </tr>\n",
       "    <tr>\n",
       "      <th>...</th>\n",
       "      <td>...</td>\n",
       "      <td>...</td>\n",
       "      <td>...</td>\n",
       "      <td>...</td>\n",
       "      <td>...</td>\n",
       "      <td>...</td>\n",
       "      <td>...</td>\n",
       "      <td>...</td>\n",
       "    </tr>\n",
       "    <tr>\n",
       "      <th>85847</th>\n",
       "      <td>renfe</td>\n",
       "      <td>MADRID</td>\n",
       "      <td>SEVILLA</td>\n",
       "      <td>2020-11-22 09:00:00</td>\n",
       "      <td>2020-11-22 11:37:48</td>\n",
       "      <td>NaN</td>\n",
       "      <td>NaN</td>\n",
       "      <td>NaN</td>\n",
       "    </tr>\n",
       "    <tr>\n",
       "      <th>85850</th>\n",
       "      <td>renfe</td>\n",
       "      <td>MADRID</td>\n",
       "      <td>SEVILLA</td>\n",
       "      <td>2020-10-13 11:22:00</td>\n",
       "      <td>2020-10-13 16:05:12</td>\n",
       "      <td>NaN</td>\n",
       "      <td>NaN</td>\n",
       "      <td>NaN</td>\n",
       "    </tr>\n",
       "    <tr>\n",
       "      <th>85854</th>\n",
       "      <td>renfe</td>\n",
       "      <td>MADRID</td>\n",
       "      <td>BARCELONA</td>\n",
       "      <td>2020-11-06 10:30:00</td>\n",
       "      <td>2020-11-06 13:15:00</td>\n",
       "      <td>NaN</td>\n",
       "      <td>NaN</td>\n",
       "      <td>NaN</td>\n",
       "    </tr>\n",
       "    <tr>\n",
       "      <th>85866</th>\n",
       "      <td>renfe</td>\n",
       "      <td>MADRID</td>\n",
       "      <td>SEVILLA</td>\n",
       "      <td>2020-12-04 12:00:00</td>\n",
       "      <td>2020-12-04 14:31:48</td>\n",
       "      <td>NaN</td>\n",
       "      <td>NaN</td>\n",
       "      <td>NaN</td>\n",
       "    </tr>\n",
       "    <tr>\n",
       "      <th>85871</th>\n",
       "      <td>renfe</td>\n",
       "      <td>MADRID</td>\n",
       "      <td>SEVILLA</td>\n",
       "      <td>2020-10-13 11:22:00</td>\n",
       "      <td>2020-10-13 16:05:12</td>\n",
       "      <td>NaN</td>\n",
       "      <td>NaN</td>\n",
       "      <td>NaN</td>\n",
       "    </tr>\n",
       "  </tbody>\n",
       "</table>\n",
       "<p>8832 rows × 8 columns</p>\n",
       "</div>"
      ],
      "text/plain": [
       "      company  origin destination           departure             arrival  \\\n",
       "33      renfe  MADRID     SEVILLA 2019-04-21 21:25:00 2019-04-22 00:10:00   \n",
       "533     renfe  MADRID   BARCELONA 2019-04-14 21:25:00 2019-04-14 23:55:00   \n",
       "1064    renfe  MADRID   BARCELONA 2019-04-18 21:25:00 2019-04-18 23:55:00   \n",
       "1081    renfe  MADRID   BARCELONA 2019-04-17 21:25:00 2019-04-17 23:55:00   \n",
       "3120    renfe  MADRID  PONFERRADA 2019-04-30 22:14:00 2019-05-01 04:31:00   \n",
       "...       ...     ...         ...                 ...                 ...   \n",
       "85847   renfe  MADRID     SEVILLA 2020-11-22 09:00:00 2020-11-22 11:37:48   \n",
       "85850   renfe  MADRID     SEVILLA 2020-10-13 11:22:00 2020-10-13 16:05:12   \n",
       "85854   renfe  MADRID   BARCELONA 2020-11-06 10:30:00 2020-11-06 13:15:00   \n",
       "85866   renfe  MADRID     SEVILLA 2020-12-04 12:00:00 2020-12-04 14:31:48   \n",
       "85871   renfe  MADRID     SEVILLA 2020-10-13 11:22:00 2020-10-13 16:05:12   \n",
       "\n",
       "      vehicle_class  price fare  \n",
       "33              NaN    NaN  NaN  \n",
       "533             NaN    NaN  NaN  \n",
       "1064            NaN    NaN  NaN  \n",
       "1081            NaN    NaN  NaN  \n",
       "3120            NaN    NaN  NaN  \n",
       "...             ...    ...  ...  \n",
       "85847           NaN    NaN  NaN  \n",
       "85850           NaN    NaN  NaN  \n",
       "85854           NaN    NaN  NaN  \n",
       "85866           NaN    NaN  NaN  \n",
       "85871           NaN    NaN  NaN  \n",
       "\n",
       "[8832 rows x 8 columns]"
      ]
     },
     "execution_count": 100,
     "metadata": {},
     "output_type": "execute_result"
    }
   ],
   "source": [
    "df[df.vehicle_class.isna()]"
   ]
  },
  {
   "cell_type": "code",
   "execution_count": 101,
   "id": "9beb9045-ac6f-4043-b6c6-5c2436156300",
   "metadata": {},
   "outputs": [
    {
     "data": {
      "text/plain": [
       "company          False\n",
       "origin           False\n",
       "destination      False\n",
       "departure        False\n",
       "arrival          False\n",
       "vehicle_class    False\n",
       "price             True\n",
       "fare             False\n",
       "dtype: bool"
      ]
     },
     "execution_count": 101,
     "metadata": {},
     "output_type": "execute_result"
    }
   ],
   "source": [
    "df = df.dropna(subset = ['vehicle_class','price','fare'], how='all')\n",
    "df.isna().any()"
   ]
  },
  {
   "cell_type": "code",
   "execution_count": 105,
   "id": "8ba1f2ab-2a05-4ddd-baa5-55be76be0d00",
   "metadata": {},
   "outputs": [
    {
     "data": {
      "text/html": [
       "<div>\n",
       "<style scoped>\n",
       "    .dataframe tbody tr th:only-of-type {\n",
       "        vertical-align: middle;\n",
       "    }\n",
       "\n",
       "    .dataframe tbody tr th {\n",
       "        vertical-align: top;\n",
       "    }\n",
       "\n",
       "    .dataframe thead th {\n",
       "        text-align: right;\n",
       "    }\n",
       "</style>\n",
       "<table border=\"1\" class=\"dataframe\">\n",
       "  <thead>\n",
       "    <tr style=\"text-align: right;\">\n",
       "      <th></th>\n",
       "      <th></th>\n",
       "      <th>price</th>\n",
       "    </tr>\n",
       "    <tr>\n",
       "      <th>vehicle_class</th>\n",
       "      <th>fare</th>\n",
       "      <th></th>\n",
       "    </tr>\n",
       "  </thead>\n",
       "  <tbody>\n",
       "    <tr>\n",
       "      <th rowspan=\"2\" valign=\"top\">Cama G. Clase</th>\n",
       "      <th>Doble Familiar-Flexible</th>\n",
       "      <td>84.846900</td>\n",
       "    </tr>\n",
       "    <tr>\n",
       "      <th>Individual-Flexible</th>\n",
       "      <td>111.046900</td>\n",
       "    </tr>\n",
       "    <tr>\n",
       "      <th>Cama Turista</th>\n",
       "      <th>Flexible</th>\n",
       "      <td>73.910791</td>\n",
       "    </tr>\n",
       "    <tr>\n",
       "      <th rowspan=\"4\" valign=\"top\">Preferente</th>\n",
       "      <th>Flexible</th>\n",
       "      <td>114.319994</td>\n",
       "    </tr>\n",
       "    <tr>\n",
       "      <th>Mesa</th>\n",
       "      <td>342.800000</td>\n",
       "    </tr>\n",
       "    <tr>\n",
       "      <th>Promo</th>\n",
       "      <td>75.686078</td>\n",
       "    </tr>\n",
       "    <tr>\n",
       "      <th>Promo +</th>\n",
       "      <td>91.770323</td>\n",
       "    </tr>\n",
       "    <tr>\n",
       "      <th rowspan=\"2\" valign=\"top\">PreferenteSólo plaza H</th>\n",
       "      <th>Flexible</th>\n",
       "      <td>84.440707</td>\n",
       "    </tr>\n",
       "    <tr>\n",
       "      <th>Promo</th>\n",
       "      <td>62.400933</td>\n",
       "    </tr>\n",
       "    <tr>\n",
       "      <th rowspan=\"8\" valign=\"top\">Turista</th>\n",
       "      <th>Adulto ida</th>\n",
       "      <td>44.714621</td>\n",
       "    </tr>\n",
       "    <tr>\n",
       "      <th>Básica</th>\n",
       "      <td>46.240157</td>\n",
       "    </tr>\n",
       "    <tr>\n",
       "      <th>COD.PROMOCIONAL</th>\n",
       "      <td>68.483333</td>\n",
       "    </tr>\n",
       "    <tr>\n",
       "      <th>Flexible</th>\n",
       "      <td>84.055269</td>\n",
       "    </tr>\n",
       "    <tr>\n",
       "      <th>Mesa</th>\n",
       "      <td>172.400000</td>\n",
       "    </tr>\n",
       "    <tr>\n",
       "      <th>Promo</th>\n",
       "      <td>65.248423</td>\n",
       "    </tr>\n",
       "    <tr>\n",
       "      <th>Promo +</th>\n",
       "      <td>72.272075</td>\n",
       "    </tr>\n",
       "    <tr>\n",
       "      <th>YOVOY</th>\n",
       "      <td>53.171657</td>\n",
       "    </tr>\n",
       "    <tr>\n",
       "      <th rowspan=\"5\" valign=\"top\">Turista Plus</th>\n",
       "      <th>Flexible</th>\n",
       "      <td>120.913274</td>\n",
       "    </tr>\n",
       "    <tr>\n",
       "      <th>Mesa</th>\n",
       "      <td>161.697933</td>\n",
       "    </tr>\n",
       "    <tr>\n",
       "      <th>Promo</th>\n",
       "      <td>85.616259</td>\n",
       "    </tr>\n",
       "    <tr>\n",
       "      <th>Promo +</th>\n",
       "      <td>81.960506</td>\n",
       "    </tr>\n",
       "    <tr>\n",
       "      <th>YOVOY</th>\n",
       "      <td>61.976923</td>\n",
       "    </tr>\n",
       "    <tr>\n",
       "      <th>Turista PlusSólo plaza H</th>\n",
       "      <th>Flexible</th>\n",
       "      <td>80.600000</td>\n",
       "    </tr>\n",
       "    <tr>\n",
       "      <th rowspan=\"4\" valign=\"top\">Turista con enlace</th>\n",
       "      <th>Flexible</th>\n",
       "      <td>63.137968</td>\n",
       "    </tr>\n",
       "    <tr>\n",
       "      <th>Promo</th>\n",
       "      <td>45.293790</td>\n",
       "    </tr>\n",
       "    <tr>\n",
       "      <th>Promo +</th>\n",
       "      <td>41.572679</td>\n",
       "    </tr>\n",
       "    <tr>\n",
       "      <th>YOVOY</th>\n",
       "      <td>33.100000</td>\n",
       "    </tr>\n",
       "    <tr>\n",
       "      <th rowspan=\"2\" valign=\"top\">TuristaSólo plaza H</th>\n",
       "      <th>Flexible</th>\n",
       "      <td>90.663054</td>\n",
       "    </tr>\n",
       "    <tr>\n",
       "      <th>Promo</th>\n",
       "      <td>78.209733</td>\n",
       "    </tr>\n",
       "  </tbody>\n",
       "</table>\n",
       "</div>"
      ],
      "text/plain": [
       "                                                       price\n",
       "vehicle_class            fare                               \n",
       "Cama G. Clase            Doble Familiar-Flexible   84.846900\n",
       "                         Individual-Flexible      111.046900\n",
       "Cama Turista             Flexible                  73.910791\n",
       "Preferente               Flexible                 114.319994\n",
       "                         Mesa                     342.800000\n",
       "                         Promo                     75.686078\n",
       "                         Promo +                   91.770323\n",
       "PreferenteSólo plaza H   Flexible                  84.440707\n",
       "                         Promo                     62.400933\n",
       "Turista                  Adulto ida                44.714621\n",
       "                         Básica                    46.240157\n",
       "                         COD.PROMOCIONAL           68.483333\n",
       "                         Flexible                  84.055269\n",
       "                         Mesa                     172.400000\n",
       "                         Promo                     65.248423\n",
       "                         Promo +                   72.272075\n",
       "                         YOVOY                     53.171657\n",
       "Turista Plus             Flexible                 120.913274\n",
       "                         Mesa                     161.697933\n",
       "                         Promo                     85.616259\n",
       "                         Promo +                   81.960506\n",
       "                         YOVOY                     61.976923\n",
       "Turista PlusSólo plaza H Flexible                  80.600000\n",
       "Turista con enlace       Flexible                  63.137968\n",
       "                         Promo                     45.293790\n",
       "                         Promo +                   41.572679\n",
       "                         YOVOY                     33.100000\n",
       "TuristaSólo plaza H      Flexible                  90.663054\n",
       "                         Promo                     78.209733"
      ]
     },
     "execution_count": 105,
     "metadata": {},
     "output_type": "execute_result"
    }
   ],
   "source": [
    "df[['vehicle_class', 'fare', 'price']].groupby(['vehicle_class', 'fare']).mean()"
   ]
  },
  {
   "cell_type": "code",
   "execution_count": 103,
   "id": "354f7b6a-e177-4516-aaa5-18e77fe103c5",
   "metadata": {},
   "outputs": [],
   "source": [
    "df['price'] = df['price'].fillna(df['price'].mean())"
   ]
  },
  {
   "cell_type": "code",
   "execution_count": 104,
   "id": "405b77c7-08e8-4402-a4ab-a48839c1c651",
   "metadata": {},
   "outputs": [
    {
     "data": {
      "text/plain": [
       "company          False\n",
       "origin           False\n",
       "destination      False\n",
       "departure        False\n",
       "arrival          False\n",
       "vehicle_class    False\n",
       "price            False\n",
       "fare             False\n",
       "dtype: bool"
      ]
     },
     "execution_count": 104,
     "metadata": {},
     "output_type": "execute_result"
    }
   ],
   "source": [
    "df.isna().any()"
   ]
  },
  {
   "cell_type": "markdown",
   "id": "df2a2254-433b-47a0-8941-9ebfe97eb6fd",
   "metadata": {},
   "source": [
    "### Deduplication\n",
    "1. Use duplicated to see whether the dataset contains any duplicated\n",
    "rows.\n",
    "2. As the dataset constitutes ticket price search results, there’s a good\n",
    "chance duplication has come about due to the data collection method.\n",
    "E.g., there are many tickets available on each train.\n",
    "We would typically investigate this further, but in order to see the\n",
    "functionality pandas offers, just remove the duplicate rows"
   ]
  },
  {
   "cell_type": "code",
   "execution_count": 107,
   "id": "128e91de-c053-4c10-91f7-bae5f68347ea",
   "metadata": {},
   "outputs": [
    {
     "data": {
      "text/plain": [
       "np.True_"
      ]
     },
     "execution_count": 107,
     "metadata": {},
     "output_type": "execute_result"
    }
   ],
   "source": [
    "df.duplicated().any()"
   ]
  },
  {
   "cell_type": "code",
   "execution_count": 110,
   "id": "ce32fa50-e476-4c5d-8b2e-f469b66d8ea0",
   "metadata": {},
   "outputs": [
    {
     "data": {
      "text/plain": [
       "np.False_"
      ]
     },
     "execution_count": 110,
     "metadata": {},
     "output_type": "execute_result"
    }
   ],
   "source": [
    "df = df.drop_duplicates()\n",
    "df.duplicated().any()"
   ]
  },
  {
   "cell_type": "markdown",
   "id": "6c1360fe-35ed-4835-bbc8-5dfd9cb1aa24",
   "metadata": {},
   "source": [
    "### Extension:\n",
    "Additional string data manipulation\n",
    "1. Capitalise the word renfe in the company column.\n",
    "2. Generate a statistical summary of trips whose vehicle_class contains\n",
    "Turista.\n",
    "3. Display all rows whose fare ends with a +"
   ]
  },
  {
   "cell_type": "code",
   "execution_count": 114,
   "id": "a8481464-6485-45be-a95c-a8ffcd9e1d93",
   "metadata": {},
   "outputs": [
    {
     "data": {
      "text/plain": [
       "company\n",
       "Renfe    29724\n",
       "Name: count, dtype: int64"
      ]
     },
     "execution_count": 114,
     "metadata": {},
     "output_type": "execute_result"
    }
   ],
   "source": [
    "df['company'] = df['company'].str.replace('renfe','Renfe')\n",
    "df.company.value_counts()"
   ]
  },
  {
   "cell_type": "code",
   "execution_count": 117,
   "id": "9bb615cc-bb89-4428-b4d3-a924abd413bf",
   "metadata": {},
   "outputs": [
    {
     "data": {
      "text/html": [
       "<div>\n",
       "<style scoped>\n",
       "    .dataframe tbody tr th:only-of-type {\n",
       "        vertical-align: middle;\n",
       "    }\n",
       "\n",
       "    .dataframe tbody tr th {\n",
       "        vertical-align: top;\n",
       "    }\n",
       "\n",
       "    .dataframe thead th {\n",
       "        text-align: right;\n",
       "    }\n",
       "</style>\n",
       "<table border=\"1\" class=\"dataframe\">\n",
       "  <thead>\n",
       "    <tr style=\"text-align: right;\">\n",
       "      <th></th>\n",
       "      <th>departure</th>\n",
       "      <th>arrival</th>\n",
       "      <th>price</th>\n",
       "    </tr>\n",
       "  </thead>\n",
       "  <tbody>\n",
       "    <tr>\n",
       "      <th>count</th>\n",
       "      <td>26171</td>\n",
       "      <td>26171</td>\n",
       "      <td>26171.000000</td>\n",
       "    </tr>\n",
       "    <tr>\n",
       "      <th>mean</th>\n",
       "      <td>2019-10-31 20:20:10.617095424</td>\n",
       "      <td>2019-10-31 23:30:27.304115200</td>\n",
       "      <td>70.803296</td>\n",
       "    </tr>\n",
       "    <tr>\n",
       "      <th>min</th>\n",
       "      <td>2019-04-12 07:15:00</td>\n",
       "      <td>2019-04-12 11:38:00</td>\n",
       "      <td>16.750000</td>\n",
       "    </tr>\n",
       "    <tr>\n",
       "      <th>25%</th>\n",
       "      <td>2019-06-12 11:00:00</td>\n",
       "      <td>2019-06-12 13:36:30</td>\n",
       "      <td>53.400000</td>\n",
       "    </tr>\n",
       "    <tr>\n",
       "      <th>50%</th>\n",
       "      <td>2019-08-29 17:00:00</td>\n",
       "      <td>2019-08-29 19:38:00</td>\n",
       "      <td>71.493800</td>\n",
       "    </tr>\n",
       "    <tr>\n",
       "      <th>75%</th>\n",
       "      <td>2020-03-22 11:17:30</td>\n",
       "      <td>2020-03-22 14:36:00</td>\n",
       "      <td>85.100000</td>\n",
       "    </tr>\n",
       "    <tr>\n",
       "      <th>max</th>\n",
       "      <td>2020-12-04 06:30:00</td>\n",
       "      <td>2020-12-04 09:19:48</td>\n",
       "      <td>206.800000</td>\n",
       "    </tr>\n",
       "    <tr>\n",
       "      <th>std</th>\n",
       "      <td>NaN</td>\n",
       "      <td>NaN</td>\n",
       "      <td>22.684486</td>\n",
       "    </tr>\n",
       "  </tbody>\n",
       "</table>\n",
       "</div>"
      ],
      "text/plain": [
       "                           departure                        arrival  \\\n",
       "count                          26171                          26171   \n",
       "mean   2019-10-31 20:20:10.617095424  2019-10-31 23:30:27.304115200   \n",
       "min              2019-04-12 07:15:00            2019-04-12 11:38:00   \n",
       "25%              2019-06-12 11:00:00            2019-06-12 13:36:30   \n",
       "50%              2019-08-29 17:00:00            2019-08-29 19:38:00   \n",
       "75%              2020-03-22 11:17:30            2020-03-22 14:36:00   \n",
       "max              2020-12-04 06:30:00            2020-12-04 09:19:48   \n",
       "std                              NaN                            NaN   \n",
       "\n",
       "              price  \n",
       "count  26171.000000  \n",
       "mean      70.803296  \n",
       "min       16.750000  \n",
       "25%       53.400000  \n",
       "50%       71.493800  \n",
       "75%       85.100000  \n",
       "max      206.800000  \n",
       "std       22.684486  "
      ]
     },
     "execution_count": 117,
     "metadata": {},
     "output_type": "execute_result"
    }
   ],
   "source": [
    "df[df.vehicle_class.str.find('Turista') != -1].describe()"
   ]
  },
  {
   "cell_type": "code",
   "execution_count": 115,
   "id": "8cf3c690-b3a7-4b52-93f0-b6be920cee0f",
   "metadata": {},
   "outputs": [
    {
     "data": {
      "text/html": [
       "<div>\n",
       "<style scoped>\n",
       "    .dataframe tbody tr th:only-of-type {\n",
       "        vertical-align: middle;\n",
       "    }\n",
       "\n",
       "    .dataframe tbody tr th {\n",
       "        vertical-align: top;\n",
       "    }\n",
       "\n",
       "    .dataframe thead th {\n",
       "        text-align: right;\n",
       "    }\n",
       "</style>\n",
       "<table border=\"1\" class=\"dataframe\">\n",
       "  <thead>\n",
       "    <tr style=\"text-align: right;\">\n",
       "      <th></th>\n",
       "      <th>company</th>\n",
       "      <th>origin</th>\n",
       "      <th>destination</th>\n",
       "      <th>departure</th>\n",
       "      <th>arrival</th>\n",
       "      <th>vehicle_class</th>\n",
       "      <th>price</th>\n",
       "      <th>fare</th>\n",
       "    </tr>\n",
       "  </thead>\n",
       "  <tbody>\n",
       "    <tr>\n",
       "      <th>118</th>\n",
       "      <td>Renfe</td>\n",
       "      <td>MADRID</td>\n",
       "      <td>SEVILLA</td>\n",
       "      <td>2019-05-04 12:00:00</td>\n",
       "      <td>2019-05-04 14:32:00</td>\n",
       "      <td>Turista con enlace</td>\n",
       "      <td>71.4938</td>\n",
       "      <td>Promo +</td>\n",
       "    </tr>\n",
       "    <tr>\n",
       "      <th>139</th>\n",
       "      <td>Renfe</td>\n",
       "      <td>MADRID</td>\n",
       "      <td>SEVILLA</td>\n",
       "      <td>2019-04-26 13:10:00</td>\n",
       "      <td>2019-04-26 20:51:00</td>\n",
       "      <td>Turista con enlace</td>\n",
       "      <td>34.3500</td>\n",
       "      <td>Promo +</td>\n",
       "    </tr>\n",
       "    <tr>\n",
       "      <th>394</th>\n",
       "      <td>Renfe</td>\n",
       "      <td>MADRID</td>\n",
       "      <td>SEVILLA</td>\n",
       "      <td>2019-04-15 13:10:00</td>\n",
       "      <td>2019-04-15 20:51:00</td>\n",
       "      <td>Turista con enlace</td>\n",
       "      <td>34.3500</td>\n",
       "      <td>Promo +</td>\n",
       "    </tr>\n",
       "    <tr>\n",
       "      <th>804</th>\n",
       "      <td>Renfe</td>\n",
       "      <td>MADRID</td>\n",
       "      <td>SEVILLA</td>\n",
       "      <td>2019-04-14 13:00:00</td>\n",
       "      <td>2019-04-14 15:40:00</td>\n",
       "      <td>Turista con enlace</td>\n",
       "      <td>71.4938</td>\n",
       "      <td>Promo +</td>\n",
       "    </tr>\n",
       "    <tr>\n",
       "      <th>818</th>\n",
       "      <td>Renfe</td>\n",
       "      <td>MADRID</td>\n",
       "      <td>SEVILLA</td>\n",
       "      <td>2019-04-26 13:10:00</td>\n",
       "      <td>2019-04-26 20:51:00</td>\n",
       "      <td>Turista con enlace</td>\n",
       "      <td>71.4938</td>\n",
       "      <td>Promo +</td>\n",
       "    </tr>\n",
       "    <tr>\n",
       "      <th>...</th>\n",
       "      <td>...</td>\n",
       "      <td>...</td>\n",
       "      <td>...</td>\n",
       "      <td>...</td>\n",
       "      <td>...</td>\n",
       "      <td>...</td>\n",
       "      <td>...</td>\n",
       "      <td>...</td>\n",
       "    </tr>\n",
       "    <tr>\n",
       "      <th>85927</th>\n",
       "      <td>Renfe</td>\n",
       "      <td>MADRID</td>\n",
       "      <td>BARCELONA</td>\n",
       "      <td>2020-11-02 07:00:00</td>\n",
       "      <td>2020-11-02 09:30:00</td>\n",
       "      <td>Turista</td>\n",
       "      <td>86.1000</td>\n",
       "      <td>Promo +</td>\n",
       "    </tr>\n",
       "    <tr>\n",
       "      <th>85928</th>\n",
       "      <td>Renfe</td>\n",
       "      <td>MADRID</td>\n",
       "      <td>SEVILLA</td>\n",
       "      <td>2020-11-17 16:00:00</td>\n",
       "      <td>2020-11-17 18:30:00</td>\n",
       "      <td>Turista</td>\n",
       "      <td>39.3000</td>\n",
       "      <td>Promo +</td>\n",
       "    </tr>\n",
       "    <tr>\n",
       "      <th>85935</th>\n",
       "      <td>Renfe</td>\n",
       "      <td>MADRID</td>\n",
       "      <td>SEVILLA</td>\n",
       "      <td>2020-10-21 16:00:00</td>\n",
       "      <td>2020-10-21 18:30:00</td>\n",
       "      <td>Turista</td>\n",
       "      <td>45.5000</td>\n",
       "      <td>Promo +</td>\n",
       "    </tr>\n",
       "    <tr>\n",
       "      <th>85943</th>\n",
       "      <td>Renfe</td>\n",
       "      <td>MADRID</td>\n",
       "      <td>BARCELONA</td>\n",
       "      <td>2020-10-20 08:00:00</td>\n",
       "      <td>2020-10-20 10:30:00</td>\n",
       "      <td>Turista</td>\n",
       "      <td>55.2500</td>\n",
       "      <td>Promo +</td>\n",
       "    </tr>\n",
       "    <tr>\n",
       "      <th>85944</th>\n",
       "      <td>Renfe</td>\n",
       "      <td>MADRID</td>\n",
       "      <td>BARCELONA</td>\n",
       "      <td>2020-10-27 09:30:00</td>\n",
       "      <td>2020-10-27 12:34:12</td>\n",
       "      <td>Turista</td>\n",
       "      <td>55.5500</td>\n",
       "      <td>Promo +</td>\n",
       "    </tr>\n",
       "  </tbody>\n",
       "</table>\n",
       "<p>2383 rows × 8 columns</p>\n",
       "</div>"
      ],
      "text/plain": [
       "      company  origin destination           departure             arrival  \\\n",
       "118     Renfe  MADRID     SEVILLA 2019-05-04 12:00:00 2019-05-04 14:32:00   \n",
       "139     Renfe  MADRID     SEVILLA 2019-04-26 13:10:00 2019-04-26 20:51:00   \n",
       "394     Renfe  MADRID     SEVILLA 2019-04-15 13:10:00 2019-04-15 20:51:00   \n",
       "804     Renfe  MADRID     SEVILLA 2019-04-14 13:00:00 2019-04-14 15:40:00   \n",
       "818     Renfe  MADRID     SEVILLA 2019-04-26 13:10:00 2019-04-26 20:51:00   \n",
       "...       ...     ...         ...                 ...                 ...   \n",
       "85927   Renfe  MADRID   BARCELONA 2020-11-02 07:00:00 2020-11-02 09:30:00   \n",
       "85928   Renfe  MADRID     SEVILLA 2020-11-17 16:00:00 2020-11-17 18:30:00   \n",
       "85935   Renfe  MADRID     SEVILLA 2020-10-21 16:00:00 2020-10-21 18:30:00   \n",
       "85943   Renfe  MADRID   BARCELONA 2020-10-20 08:00:00 2020-10-20 10:30:00   \n",
       "85944   Renfe  MADRID   BARCELONA 2020-10-27 09:30:00 2020-10-27 12:34:12   \n",
       "\n",
       "            vehicle_class    price     fare  \n",
       "118    Turista con enlace  71.4938  Promo +  \n",
       "139    Turista con enlace  34.3500  Promo +  \n",
       "394    Turista con enlace  34.3500  Promo +  \n",
       "804    Turista con enlace  71.4938  Promo +  \n",
       "818    Turista con enlace  71.4938  Promo +  \n",
       "...                   ...      ...      ...  \n",
       "85927             Turista  86.1000  Promo +  \n",
       "85928             Turista  39.3000  Promo +  \n",
       "85935             Turista  45.5000  Promo +  \n",
       "85943             Turista  55.2500  Promo +  \n",
       "85944             Turista  55.5500  Promo +  \n",
       "\n",
       "[2383 rows x 8 columns]"
      ]
     },
     "execution_count": 115,
     "metadata": {},
     "output_type": "execute_result"
    }
   ],
   "source": [
    "df[df.fare.str.endswith('+')]"
   ]
  },
  {
   "cell_type": "markdown",
   "id": "0a101805-c22a-4c59-90d6-bce40c55cdea",
   "metadata": {},
   "source": [
    "## Data Manipulation with Pandas\n",
    "Load in the dataset renfe_trains_cleaned.csv."
   ]
  },
  {
   "cell_type": "code",
   "execution_count": 119,
   "id": "bd811904-20e4-42fc-b177-5dec646346a1",
   "metadata": {},
   "outputs": [],
   "source": [
    "import pandas as pd\n",
    "df = pd.read_csv('data/renfe_trains_cleaned.csv')"
   ]
  },
  {
   "cell_type": "markdown",
   "id": "111bc943-7555-4dda-943a-259ed962aa0c",
   "metadata": {},
   "source": [
    "### Pivot tables\n",
    "1. Use a pivot table to explore how price differs with respect to the type of\n",
    "fare for each destination."
   ]
  },
  {
   "cell_type": "code",
   "execution_count": 120,
   "id": "2f8d36fb-fed3-4b1e-aaa3-0e1ed2c67074",
   "metadata": {},
   "outputs": [
    {
     "data": {
      "text/html": [
       "<div>\n",
       "<style scoped>\n",
       "    .dataframe tbody tr th:only-of-type {\n",
       "        vertical-align: middle;\n",
       "    }\n",
       "\n",
       "    .dataframe tbody tr th {\n",
       "        vertical-align: top;\n",
       "    }\n",
       "\n",
       "    .dataframe thead tr th {\n",
       "        text-align: left;\n",
       "    }\n",
       "\n",
       "    .dataframe thead tr:last-of-type th {\n",
       "        text-align: right;\n",
       "    }\n",
       "</style>\n",
       "<table border=\"1\" class=\"dataframe\">\n",
       "  <thead>\n",
       "    <tr>\n",
       "      <th></th>\n",
       "      <th colspan=\"10\" halign=\"left\">price</th>\n",
       "    </tr>\n",
       "    <tr>\n",
       "      <th>fare</th>\n",
       "      <th>Adulto ida</th>\n",
       "      <th>Básica</th>\n",
       "      <th>COD.PROMOCIONAL</th>\n",
       "      <th>Doble Familiar-Flexible</th>\n",
       "      <th>Flexible</th>\n",
       "      <th>Individual-Flexible</th>\n",
       "      <th>Mesa</th>\n",
       "      <th>Promo</th>\n",
       "      <th>Promo +</th>\n",
       "      <th>YOVOY</th>\n",
       "    </tr>\n",
       "    <tr>\n",
       "      <th>destination</th>\n",
       "      <th></th>\n",
       "      <th></th>\n",
       "      <th></th>\n",
       "      <th></th>\n",
       "      <th></th>\n",
       "      <th></th>\n",
       "      <th></th>\n",
       "      <th></th>\n",
       "      <th></th>\n",
       "      <th></th>\n",
       "    </tr>\n",
       "  </thead>\n",
       "  <tbody>\n",
       "    <tr>\n",
       "      <th>BARCELONA</th>\n",
       "      <td>44.893276</td>\n",
       "      <td>45.761589</td>\n",
       "      <td>68.483333</td>\n",
       "      <td>NaN</td>\n",
       "      <td>113.383631</td>\n",
       "      <td>NaN</td>\n",
       "      <td>200.05876</td>\n",
       "      <td>78.569029</td>\n",
       "      <td>78.598345</td>\n",
       "      <td>63.755397</td>\n",
       "    </tr>\n",
       "    <tr>\n",
       "      <th>PONFERRADA</th>\n",
       "      <td>NaN</td>\n",
       "      <td>NaN</td>\n",
       "      <td>NaN</td>\n",
       "      <td>84.8469</td>\n",
       "      <td>56.404715</td>\n",
       "      <td>97.862533</td>\n",
       "      <td>NaN</td>\n",
       "      <td>34.683060</td>\n",
       "      <td>40.502558</td>\n",
       "      <td>33.100000</td>\n",
       "    </tr>\n",
       "    <tr>\n",
       "      <th>SEVILLA</th>\n",
       "      <td>50.700000</td>\n",
       "      <td>NaN</td>\n",
       "      <td>NaN</td>\n",
       "      <td>NaN</td>\n",
       "      <td>75.694836</td>\n",
       "      <td>NaN</td>\n",
       "      <td>NaN</td>\n",
       "      <td>54.834366</td>\n",
       "      <td>49.571996</td>\n",
       "      <td>48.683511</td>\n",
       "    </tr>\n",
       "  </tbody>\n",
       "</table>\n",
       "</div>"
      ],
      "text/plain": [
       "                 price                                                     \\\n",
       "fare        Adulto ida     Básica COD.PROMOCIONAL Doble Familiar-Flexible   \n",
       "destination                                                                 \n",
       "BARCELONA    44.893276  45.761589       68.483333                     NaN   \n",
       "PONFERRADA         NaN        NaN             NaN                 84.8469   \n",
       "SEVILLA      50.700000        NaN             NaN                     NaN   \n",
       "\n",
       "                                                                              \\\n",
       "fare           Flexible Individual-Flexible       Mesa      Promo    Promo +   \n",
       "destination                                                                    \n",
       "BARCELONA    113.383631                 NaN  200.05876  78.569029  78.598345   \n",
       "PONFERRADA    56.404715           97.862533        NaN  34.683060  40.502558   \n",
       "SEVILLA       75.694836                 NaN        NaN  54.834366  49.571996   \n",
       "\n",
       "                        \n",
       "fare             YOVOY  \n",
       "destination             \n",
       "BARCELONA    63.755397  \n",
       "PONFERRADA   33.100000  \n",
       "SEVILLA      48.683511  "
      ]
     },
     "execution_count": 120,
     "metadata": {},
     "output_type": "execute_result"
    }
   ],
   "source": [
    "df.pivot_table(\n",
    "    values=['price'],\n",
    "    index = 'destination',\n",
    "    columns = 'fare'\n",
    ")"
   ]
  },
  {
   "cell_type": "markdown",
   "id": "83c68932-2778-4c78-95fd-62a71e905f66",
   "metadata": {},
   "source": [
    "### Working with time series\n",
    "\n",
    "1. Convert departure & arrival to a more appropriate datatype."
   ]
  },
  {
   "cell_type": "code",
   "execution_count": 122,
   "id": "1b09e61f-05ed-4e72-93da-06fdc1df811f",
   "metadata": {},
   "outputs": [],
   "source": [
    "df['departure'] = pd.to_datetime(df.departure)\n",
    "df['arrival'] = pd.to_datetime(df.arrival)"
   ]
  },
  {
   "cell_type": "markdown",
   "id": "09db0bb4-d548-49aa-900f-38f4af6a74f7",
   "metadata": {},
   "source": [
    "2. Calculate the duration of each train journey and add it as a column\n",
    "called duration."
   ]
  },
  {
   "cell_type": "code",
   "execution_count": 124,
   "id": "d6b627aa-2d90-4f1d-9489-28ea9e629e87",
   "metadata": {},
   "outputs": [
    {
     "data": {
      "text/plain": [
       "0       0 days 02:38:00\n",
       "1       0 days 02:45:00\n",
       "2       0 days 02:45:00\n",
       "3       0 days 02:51:00\n",
       "4       0 days 02:45:00\n",
       "              ...      \n",
       "29719   0 days 08:39:00\n",
       "29720   0 days 08:39:00\n",
       "29721   0 days 02:30:00\n",
       "29722   0 days 03:04:12\n",
       "29723   0 days 06:15:00\n",
       "Name: duration, Length: 29724, dtype: timedelta64[ns]"
      ]
     },
     "execution_count": 124,
     "metadata": {},
     "output_type": "execute_result"
    }
   ],
   "source": [
    "df['duration'] = df['arrival'] - df['departure']\n",
    "df['duration']"
   ]
  },
  {
   "cell_type": "markdown",
   "id": "eafdcd0e-01cf-4291-80d8-889d31c12017",
   "metadata": {},
   "source": [
    "3. Make departure the index of the DataFrame."
   ]
  },
  {
   "cell_type": "code",
   "execution_count": 126,
   "id": "92031dc3-e9ad-4222-8876-f833f8175704",
   "metadata": {},
   "outputs": [],
   "source": [
    "df = df.set_index('departure')"
   ]
  },
  {
   "cell_type": "markdown",
   "id": "074163eb-1494-47ff-98c5-936a95393b71",
   "metadata": {},
   "source": [
    "4. Sort the index low to high (earlier to later). This will make slicing\n",
    "possible later."
   ]
  },
  {
   "cell_type": "code",
   "execution_count": 127,
   "id": "32bdbe04-2cdc-4c42-95af-4175bf6c98ae",
   "metadata": {},
   "outputs": [],
   "source": [
    "df = df.sort_index()"
   ]
  },
  {
   "cell_type": "markdown",
   "id": "633b2342-c38f-45b4-91ca-fd3bf360fc5c",
   "metadata": {},
   "source": [
    "4. Create a subset of the DataFrame called madrid_to_barca which\n",
    "contains only journeys with origin as MADRID and destination as\n",
    "BARCELONA."
   ]
  },
  {
   "cell_type": "code",
   "execution_count": 134,
   "id": "f5a5c437-7d8c-4d16-b6cd-7f2dd81f2b2b",
   "metadata": {},
   "outputs": [
    {
     "data": {
      "text/html": [
       "<div>\n",
       "<style scoped>\n",
       "    .dataframe tbody tr th:only-of-type {\n",
       "        vertical-align: middle;\n",
       "    }\n",
       "\n",
       "    .dataframe tbody tr th {\n",
       "        vertical-align: top;\n",
       "    }\n",
       "\n",
       "    .dataframe thead th {\n",
       "        text-align: right;\n",
       "    }\n",
       "</style>\n",
       "<table border=\"1\" class=\"dataframe\">\n",
       "  <thead>\n",
       "    <tr style=\"text-align: right;\">\n",
       "      <th></th>\n",
       "      <th>company</th>\n",
       "      <th>origin</th>\n",
       "      <th>destination</th>\n",
       "      <th>arrival</th>\n",
       "      <th>vehicle_class</th>\n",
       "      <th>price</th>\n",
       "      <th>fare</th>\n",
       "      <th>price_bin</th>\n",
       "      <th>duration</th>\n",
       "    </tr>\n",
       "    <tr>\n",
       "      <th>departure</th>\n",
       "      <th></th>\n",
       "      <th></th>\n",
       "      <th></th>\n",
       "      <th></th>\n",
       "      <th></th>\n",
       "      <th></th>\n",
       "      <th></th>\n",
       "      <th></th>\n",
       "      <th></th>\n",
       "    </tr>\n",
       "  </thead>\n",
       "  <tbody>\n",
       "    <tr>\n",
       "      <th>2019-04-12 07:15:00</th>\n",
       "      <td>RENFE</td>\n",
       "      <td>MADRID</td>\n",
       "      <td>BARCELONA</td>\n",
       "      <td>2019-04-12 16:37:00</td>\n",
       "      <td>Turista</td>\n",
       "      <td>43.2500</td>\n",
       "      <td>Adulto ida</td>\n",
       "      <td>(0, 150]</td>\n",
       "      <td>0 days 09:22:00</td>\n",
       "    </tr>\n",
       "    <tr>\n",
       "      <th>2019-04-12 12:30:00</th>\n",
       "      <td>RENFE</td>\n",
       "      <td>MADRID</td>\n",
       "      <td>BARCELONA</td>\n",
       "      <td>2019-04-12 15:30:00</td>\n",
       "      <td>Turista</td>\n",
       "      <td>71.4938</td>\n",
       "      <td>Flexible</td>\n",
       "      <td>(0, 150]</td>\n",
       "      <td>0 days 03:00:00</td>\n",
       "    </tr>\n",
       "    <tr>\n",
       "      <th>2019-04-12 14:30:00</th>\n",
       "      <td>RENFE</td>\n",
       "      <td>MADRID</td>\n",
       "      <td>BARCELONA</td>\n",
       "      <td>2019-04-12 17:21:00</td>\n",
       "      <td>Turista</td>\n",
       "      <td>107.7000</td>\n",
       "      <td>Flexible</td>\n",
       "      <td>(0, 150]</td>\n",
       "      <td>0 days 02:51:00</td>\n",
       "    </tr>\n",
       "    <tr>\n",
       "      <th>2019-04-12 16:30:00</th>\n",
       "      <td>RENFE</td>\n",
       "      <td>MADRID</td>\n",
       "      <td>BARCELONA</td>\n",
       "      <td>2019-04-12 19:15:00</td>\n",
       "      <td>Preferente</td>\n",
       "      <td>71.4938</td>\n",
       "      <td>Flexible</td>\n",
       "      <td>(0, 150]</td>\n",
       "      <td>0 days 02:45:00</td>\n",
       "    </tr>\n",
       "    <tr>\n",
       "      <th>2019-04-12 18:00:00</th>\n",
       "      <td>RENFE</td>\n",
       "      <td>MADRID</td>\n",
       "      <td>BARCELONA</td>\n",
       "      <td>2019-04-12 20:30:00</td>\n",
       "      <td>Turista</td>\n",
       "      <td>100.4000</td>\n",
       "      <td>Promo</td>\n",
       "      <td>(0, 150]</td>\n",
       "      <td>0 days 02:30:00</td>\n",
       "    </tr>\n",
       "  </tbody>\n",
       "</table>\n",
       "</div>"
      ],
      "text/plain": [
       "                    company  origin destination             arrival  \\\n",
       "departure                                                             \n",
       "2019-04-12 07:15:00   RENFE  MADRID   BARCELONA 2019-04-12 16:37:00   \n",
       "2019-04-12 12:30:00   RENFE  MADRID   BARCELONA 2019-04-12 15:30:00   \n",
       "2019-04-12 14:30:00   RENFE  MADRID   BARCELONA 2019-04-12 17:21:00   \n",
       "2019-04-12 16:30:00   RENFE  MADRID   BARCELONA 2019-04-12 19:15:00   \n",
       "2019-04-12 18:00:00   RENFE  MADRID   BARCELONA 2019-04-12 20:30:00   \n",
       "\n",
       "                    vehicle_class     price        fare price_bin  \\\n",
       "departure                                                           \n",
       "2019-04-12 07:15:00       Turista   43.2500  Adulto ida  (0, 150]   \n",
       "2019-04-12 12:30:00       Turista   71.4938    Flexible  (0, 150]   \n",
       "2019-04-12 14:30:00       Turista  107.7000    Flexible  (0, 150]   \n",
       "2019-04-12 16:30:00    Preferente   71.4938    Flexible  (0, 150]   \n",
       "2019-04-12 18:00:00       Turista  100.4000       Promo  (0, 150]   \n",
       "\n",
       "                           duration  \n",
       "departure                            \n",
       "2019-04-12 07:15:00 0 days 09:22:00  \n",
       "2019-04-12 12:30:00 0 days 03:00:00  \n",
       "2019-04-12 14:30:00 0 days 02:51:00  \n",
       "2019-04-12 16:30:00 0 days 02:45:00  \n",
       "2019-04-12 18:00:00 0 days 02:30:00  "
      ]
     },
     "execution_count": 134,
     "metadata": {},
     "output_type": "execute_result"
    }
   ],
   "source": [
    "madrid_to_barca = df[(df.origin == 'MADRID') & (df.destination == 'BARCELONA')]\n",
    "madrid_to_barca.head()"
   ]
  },
  {
   "cell_type": "markdown",
   "id": "20c7fd57-d992-49fd-a130-aed8585fdcaa",
   "metadata": {},
   "source": [
    "5. Select only those tickets in madrid_to_barca which are in the Promo\n",
    "category for fare and Turista for vehicle_class. Update\n",
    "madrid_to_barca to only contain these."
   ]
  },
  {
   "cell_type": "code",
   "execution_count": 135,
   "id": "a0e36e80-2f2f-49c5-9033-559c4e8f27a1",
   "metadata": {},
   "outputs": [
    {
     "data": {
      "text/html": [
       "<div>\n",
       "<style scoped>\n",
       "    .dataframe tbody tr th:only-of-type {\n",
       "        vertical-align: middle;\n",
       "    }\n",
       "\n",
       "    .dataframe tbody tr th {\n",
       "        vertical-align: top;\n",
       "    }\n",
       "\n",
       "    .dataframe thead th {\n",
       "        text-align: right;\n",
       "    }\n",
       "</style>\n",
       "<table border=\"1\" class=\"dataframe\">\n",
       "  <thead>\n",
       "    <tr style=\"text-align: right;\">\n",
       "      <th></th>\n",
       "      <th>company</th>\n",
       "      <th>origin</th>\n",
       "      <th>destination</th>\n",
       "      <th>arrival</th>\n",
       "      <th>vehicle_class</th>\n",
       "      <th>price</th>\n",
       "      <th>fare</th>\n",
       "      <th>price_bin</th>\n",
       "      <th>duration</th>\n",
       "    </tr>\n",
       "    <tr>\n",
       "      <th>departure</th>\n",
       "      <th></th>\n",
       "      <th></th>\n",
       "      <th></th>\n",
       "      <th></th>\n",
       "      <th></th>\n",
       "      <th></th>\n",
       "      <th></th>\n",
       "      <th></th>\n",
       "      <th></th>\n",
       "    </tr>\n",
       "  </thead>\n",
       "  <tbody>\n",
       "    <tr>\n",
       "      <th>2019-04-12 18:00:00</th>\n",
       "      <td>RENFE</td>\n",
       "      <td>MADRID</td>\n",
       "      <td>BARCELONA</td>\n",
       "      <td>2019-04-12 20:30:00</td>\n",
       "      <td>Turista</td>\n",
       "      <td>100.4000</td>\n",
       "      <td>Promo</td>\n",
       "      <td>(0, 150]</td>\n",
       "      <td>0 days 02:30:00</td>\n",
       "    </tr>\n",
       "    <tr>\n",
       "      <th>2019-04-14 09:30:00</th>\n",
       "      <td>RENFE</td>\n",
       "      <td>MADRID</td>\n",
       "      <td>BARCELONA</td>\n",
       "      <td>2019-04-14 12:34:00</td>\n",
       "      <td>Turista</td>\n",
       "      <td>71.4938</td>\n",
       "      <td>Promo</td>\n",
       "      <td>(0, 150]</td>\n",
       "      <td>0 days 03:04:00</td>\n",
       "    </tr>\n",
       "    <tr>\n",
       "      <th>2019-04-15 06:10:00</th>\n",
       "      <td>RENFE</td>\n",
       "      <td>MADRID</td>\n",
       "      <td>BARCELONA</td>\n",
       "      <td>2019-04-15 08:40:00</td>\n",
       "      <td>Turista</td>\n",
       "      <td>75.4000</td>\n",
       "      <td>Promo</td>\n",
       "      <td>(0, 150]</td>\n",
       "      <td>0 days 02:30:00</td>\n",
       "    </tr>\n",
       "    <tr>\n",
       "      <th>2019-04-15 08:00:00</th>\n",
       "      <td>RENFE</td>\n",
       "      <td>MADRID</td>\n",
       "      <td>BARCELONA</td>\n",
       "      <td>2019-04-15 10:30:00</td>\n",
       "      <td>Turista</td>\n",
       "      <td>100.4000</td>\n",
       "      <td>Promo</td>\n",
       "      <td>(0, 150]</td>\n",
       "      <td>0 days 02:30:00</td>\n",
       "    </tr>\n",
       "    <tr>\n",
       "      <th>2019-04-15 14:00:00</th>\n",
       "      <td>RENFE</td>\n",
       "      <td>MADRID</td>\n",
       "      <td>BARCELONA</td>\n",
       "      <td>2019-04-15 16:30:00</td>\n",
       "      <td>Turista</td>\n",
       "      <td>100.4000</td>\n",
       "      <td>Promo</td>\n",
       "      <td>(0, 150]</td>\n",
       "      <td>0 days 02:30:00</td>\n",
       "    </tr>\n",
       "  </tbody>\n",
       "</table>\n",
       "</div>"
      ],
      "text/plain": [
       "                    company  origin destination             arrival  \\\n",
       "departure                                                             \n",
       "2019-04-12 18:00:00   RENFE  MADRID   BARCELONA 2019-04-12 20:30:00   \n",
       "2019-04-14 09:30:00   RENFE  MADRID   BARCELONA 2019-04-14 12:34:00   \n",
       "2019-04-15 06:10:00   RENFE  MADRID   BARCELONA 2019-04-15 08:40:00   \n",
       "2019-04-15 08:00:00   RENFE  MADRID   BARCELONA 2019-04-15 10:30:00   \n",
       "2019-04-15 14:00:00   RENFE  MADRID   BARCELONA 2019-04-15 16:30:00   \n",
       "\n",
       "                    vehicle_class     price   fare price_bin        duration  \n",
       "departure                                                                     \n",
       "2019-04-12 18:00:00       Turista  100.4000  Promo  (0, 150] 0 days 02:30:00  \n",
       "2019-04-14 09:30:00       Turista   71.4938  Promo  (0, 150] 0 days 03:04:00  \n",
       "2019-04-15 06:10:00       Turista   75.4000  Promo  (0, 150] 0 days 02:30:00  \n",
       "2019-04-15 08:00:00       Turista  100.4000  Promo  (0, 150] 0 days 02:30:00  \n",
       "2019-04-15 14:00:00       Turista  100.4000  Promo  (0, 150] 0 days 02:30:00  "
      ]
     },
     "execution_count": 135,
     "metadata": {},
     "output_type": "execute_result"
    }
   ],
   "source": [
    "subset = madrid_to_barca[(madrid_to_barca.fare == 'Promo') & (madrid_to_barca.vehicle_class == 'Turista')]\n",
    "subset.head()"
   ]
  },
  {
   "cell_type": "markdown",
   "id": "c6d81209-bc96-4199-b81e-9a1437bddd7b",
   "metadata": {},
   "source": [
    "6. Compute a seven day rolling average for price for the madrid_to_barca\n",
    "DataFrame. Add it as a column called rolling."
   ]
  },
  {
   "cell_type": "code",
   "execution_count": 138,
   "id": "9c530979-882a-4645-9cc9-1bf301c58302",
   "metadata": {},
   "outputs": [
    {
     "name": "stderr",
     "output_type": "stream",
     "text": [
      "C:\\Users\\Admin\\AppData\\Local\\Temp\\ipykernel_10772\\3051247700.py:1: SettingWithCopyWarning: \n",
      "A value is trying to be set on a copy of a slice from a DataFrame.\n",
      "Try using .loc[row_indexer,col_indexer] = value instead\n",
      "\n",
      "See the caveats in the documentation: https://pandas.pydata.org/pandas-docs/stable/user_guide/indexing.html#returning-a-view-versus-a-copy\n",
      "  subset['rolling'] = subset['price'].rolling(window='7D').mean()\n"
     ]
    }
   ],
   "source": [
    "subset['rolling'] = subset['price'].rolling(window='7D').mean()"
   ]
  },
  {
   "cell_type": "markdown",
   "id": "8e851982-140b-4410-a4e1-1008ea83fd14",
   "metadata": {},
   "source": [
    "(To try after completing the combining tables section) Plot the rolling\n",
    "average vs. the actual values of price."
   ]
  },
  {
   "cell_type": "code",
   "execution_count": 147,
   "id": "57e9e884-f0d1-4a2f-84c8-3a21fa4fa090",
   "metadata": {},
   "outputs": [
    {
     "ename": "AttributeError",
     "evalue": "'function' object has no attribute 'plot'",
     "output_type": "error",
     "traceback": [
      "\u001b[1;31m---------------------------------------------------------------------------\u001b[0m",
      "\u001b[1;31mAttributeError\u001b[0m                            Traceback (most recent call last)",
      "Cell \u001b[1;32mIn[147], line 6\u001b[0m\n\u001b[0;32m      3\u001b[0m plt\u001b[38;5;241m.\u001b[39mfigure(figsize\u001b[38;5;241m=\u001b[39m(\u001b[38;5;241m12\u001b[39m,\u001b[38;5;241m5\u001b[39m))\n\u001b[0;32m      4\u001b[0m plt\u001b[38;5;241m.\u001b[39mxlabel(\u001b[38;5;124m'\u001b[39m\u001b[38;5;124mxlabel\u001b[39m\u001b[38;5;124m'\u001b[39m)\n\u001b[1;32m----> 6\u001b[0m ax1 \u001b[38;5;241m=\u001b[39m \u001b[43msubset\u001b[49m\u001b[38;5;241;43m.\u001b[39;49m\u001b[43mrolling\u001b[49m\u001b[38;5;241;43m.\u001b[39;49m\u001b[43mplot\u001b[49m(color\u001b[38;5;241m=\u001b[39m\u001b[38;5;124m'\u001b[39m\u001b[38;5;124mblue\u001b[39m\u001b[38;5;124m'\u001b[39m, label\u001b[38;5;241m=\u001b[39m\u001b[38;5;124m'\u001b[39m\u001b[38;5;124mrolling\u001b[39m\u001b[38;5;124m'\u001b[39m)\n\u001b[0;32m      7\u001b[0m ax2 \u001b[38;5;241m=\u001b[39m subset\u001b[38;5;241m.\u001b[39mprice\u001b[38;5;241m.\u001b[39mplot(color\u001b[38;5;241m=\u001b[39m\u001b[38;5;124m'\u001b[39m\u001b[38;5;124mred\u001b[39m\u001b[38;5;124m'\u001b[39m, label\u001b[38;5;241m=\u001b[39m\u001b[38;5;124m'\u001b[39m\u001b[38;5;124mactual\u001b[39m\u001b[38;5;124m'\u001b[39m)\n\u001b[0;32m      9\u001b[0m h1, l1 \u001b[38;5;241m=\u001b[39m ax1\u001b[38;5;241m.\u001b[39mget_legend_handles_labels()\n",
      "\u001b[1;31mAttributeError\u001b[0m: 'function' object has no attribute 'plot'"
     ]
    },
    {
     "data": {
      "image/png": "[encoded data removed]",
      "text/plain": [
       "<Figure size 1200x500 with 1 Axes>"
      ]
     },
     "metadata": {},
     "output_type": "display_data"
    }
   ],
   "source": [
    "import matplotlib.pyplot as plt\n",
    "\n",
    "plt.figure(figsize=(12,5))\n",
    "plt.xlabel('xlabel')\n",
    "\n",
    "ax1 = subset.rolling.plot(color='blue', label='rolling')\n",
    "ax2 = subset.price.plot(color='red', label='actual')\n",
    "\n",
    "h1, l1 = ax1.get_legend_handles_labels()\n",
    "h2, l2 = ax2.get_legend_handles_labels()\n",
    "\n",
    "\n",
    "plt.legend(h1+h2, l1+l2, loc=2)\n",
    "plt.show()"
   ]
  },
  {
   "cell_type": "markdown",
   "id": "539b5bd1-a0ab-465d-97ed-70f1e0c4ae89",
   "metadata": {},
   "source": [
    "### Combining tables\n",
    "1. Read in the fare_conditions.csv file. It contains the conditions for\n",
    "the type of ticket that has been purchased."
   ]
  },
  {
   "cell_type": "code",
   "execution_count": 142,
   "id": "ca8db4bf-f116-4fd3-8008-af9bdceb6999",
   "metadata": {},
   "outputs": [],
   "source": [
    "fare_conditions = pd.read_csv('data/fare_conditions.csv')"
   ]
  },
  {
   "cell_type": "markdown",
   "id": "b9d25891-a9e5-402e-b70c-3ce012ddab9e",
   "metadata": {},
   "source": [
    "2. Add the fare conditions to the original df DataFrame."
   ]
  },
  {
   "cell_type": "code",
   "execution_count": 144,
   "id": "9ef030a8-fccc-4be3-b70d-0420296df8a0",
   "metadata": {},
   "outputs": [
    {
     "data": {
      "text/html": [
       "<div>\n",
       "<style scoped>\n",
       "    .dataframe tbody tr th:only-of-type {\n",
       "        vertical-align: middle;\n",
       "    }\n",
       "\n",
       "    .dataframe tbody tr th {\n",
       "        vertical-align: top;\n",
       "    }\n",
       "\n",
       "    .dataframe thead th {\n",
       "        text-align: right;\n",
       "    }\n",
       "</style>\n",
       "<table border=\"1\" class=\"dataframe\">\n",
       "  <thead>\n",
       "    <tr style=\"text-align: right;\">\n",
       "      <th></th>\n",
       "      <th>company</th>\n",
       "      <th>origin</th>\n",
       "      <th>destination</th>\n",
       "      <th>arrival</th>\n",
       "      <th>vehicle_class</th>\n",
       "      <th>price</th>\n",
       "      <th>fare</th>\n",
       "      <th>price_bin</th>\n",
       "      <th>duration</th>\n",
       "      <th>Conditions</th>\n",
       "    </tr>\n",
       "  </thead>\n",
       "  <tbody>\n",
       "    <tr>\n",
       "      <th>0</th>\n",
       "      <td>RENFE</td>\n",
       "      <td>MADRID</td>\n",
       "      <td>BARCELONA</td>\n",
       "      <td>2019-04-12 16:37:00</td>\n",
       "      <td>Turista</td>\n",
       "      <td>43.2500</td>\n",
       "      <td>Adulto ida</td>\n",
       "      <td>(0, 150]</td>\n",
       "      <td>0 days 09:22:00</td>\n",
       "      <td>Valid for 1 adult to return within 1 day</td>\n",
       "    </tr>\n",
       "    <tr>\n",
       "      <th>1</th>\n",
       "      <td>RENFE</td>\n",
       "      <td>MADRID</td>\n",
       "      <td>SEVILLA</td>\n",
       "      <td>2019-04-12 11:38:00</td>\n",
       "      <td>Turista</td>\n",
       "      <td>76.3000</td>\n",
       "      <td>Flexible</td>\n",
       "      <td>(0, 150]</td>\n",
       "      <td>0 days 02:38:00</td>\n",
       "      <td>Valid within 1 month of departure</td>\n",
       "    </tr>\n",
       "    <tr>\n",
       "      <th>2</th>\n",
       "      <td>RENFE</td>\n",
       "      <td>MADRID</td>\n",
       "      <td>SEVILLA</td>\n",
       "      <td>2019-04-12 13:41:00</td>\n",
       "      <td>Preferente</td>\n",
       "      <td>87.4000</td>\n",
       "      <td>Flexible</td>\n",
       "      <td>(0, 150]</td>\n",
       "      <td>0 days 02:36:00</td>\n",
       "      <td>Valid within 1 month of departure</td>\n",
       "    </tr>\n",
       "    <tr>\n",
       "      <th>3</th>\n",
       "      <td>RENFE</td>\n",
       "      <td>MADRID</td>\n",
       "      <td>SEVILLA</td>\n",
       "      <td>2019-04-12 14:32:00</td>\n",
       "      <td>Turista</td>\n",
       "      <td>76.3000</td>\n",
       "      <td>Flexible</td>\n",
       "      <td>(0, 150]</td>\n",
       "      <td>0 days 02:32:00</td>\n",
       "      <td>Valid within 1 month of departure</td>\n",
       "    </tr>\n",
       "    <tr>\n",
       "      <th>4</th>\n",
       "      <td>RENFE</td>\n",
       "      <td>MADRID</td>\n",
       "      <td>BARCELONA</td>\n",
       "      <td>2019-04-12 15:30:00</td>\n",
       "      <td>Turista</td>\n",
       "      <td>71.4938</td>\n",
       "      <td>Flexible</td>\n",
       "      <td>(0, 150]</td>\n",
       "      <td>0 days 03:00:00</td>\n",
       "      <td>Valid within 1 month of departure</td>\n",
       "    </tr>\n",
       "  </tbody>\n",
       "</table>\n",
       "</div>"
      ],
      "text/plain": [
       "  company  origin destination             arrival vehicle_class    price  \\\n",
       "0   RENFE  MADRID   BARCELONA 2019-04-12 16:37:00       Turista  43.2500   \n",
       "1   RENFE  MADRID     SEVILLA 2019-04-12 11:38:00       Turista  76.3000   \n",
       "2   RENFE  MADRID     SEVILLA 2019-04-12 13:41:00    Preferente  87.4000   \n",
       "3   RENFE  MADRID     SEVILLA 2019-04-12 14:32:00       Turista  76.3000   \n",
       "4   RENFE  MADRID   BARCELONA 2019-04-12 15:30:00       Turista  71.4938   \n",
       "\n",
       "         fare price_bin        duration  \\\n",
       "0  Adulto ida  (0, 150] 0 days 09:22:00   \n",
       "1    Flexible  (0, 150] 0 days 02:38:00   \n",
       "2    Flexible  (0, 150] 0 days 02:36:00   \n",
       "3    Flexible  (0, 150] 0 days 02:32:00   \n",
       "4    Flexible  (0, 150] 0 days 03:00:00   \n",
       "\n",
       "                                 Conditions  \n",
       "0  Valid for 1 adult to return within 1 day  \n",
       "1         Valid within 1 month of departure  \n",
       "2         Valid within 1 month of departure  \n",
       "3         Valid within 1 month of departure  \n",
       "4         Valid within 1 month of departure  "
      ]
     },
     "execution_count": 144,
     "metadata": {},
     "output_type": "execute_result"
    }
   ],
   "source": [
    "df = df.merge(fare_conditions, how = 'left', on = 'fare')\n",
    "df.head()"
   ]
  }
 ],
 "metadata": {
  "kernelspec": {
   "display_name": "Python 3 (ipykernel)",
   "language": "python",
   "name": "python3"
  },
  "language_info": {
   "codemirror_mode": {
    "name": "ipython",
    "version": 3
   },
   "file_extension": ".py",
   "mimetype": "text/x-python",
   "name": "python",
   "nbconvert_exporter": "python",
   "pygments_lexer": "ipython3",
   "version": "3.11.9"
  }
 },
 "nbformat": 4,
 "nbformat_minor": 5
}
