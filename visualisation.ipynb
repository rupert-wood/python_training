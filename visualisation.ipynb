{
 "cells": [
  {
   "cell_type": "code",
   "execution_count": null,
   "id": "c2f816d1-2b9b-4fc8-b413-eec38f378474",
   "metadata": {},
   "outputs": [],
   "source": []
  },
  {
   "cell_type": "code",
   "execution_count": 1,
   "id": "9bc6f9b4-ce4d-4301-8da7-ba1aeaa71afb",
   "metadata": {},
   "outputs": [
    {
     "ename": "NameError",
     "evalue": "name 'df' is not defined",
     "output_type": "error",
     "traceback": [
      "\u001b[1;31m---------------------------------------------------------------------------\u001b[0m",
      "\u001b[1;31mNameError\u001b[0m                                 Traceback (most recent call last)",
      "Cell \u001b[1;32mIn[1], line 8\u001b[0m\n\u001b[0;32m      4\u001b[0m \u001b[38;5;28;01mimport\u001b[39;00m \u001b[38;5;21;01mseaborn\u001b[39;00m \u001b[38;5;28;01mas\u001b[39;00m \u001b[38;5;21;01msns\u001b[39;00m\n\u001b[0;32m      6\u001b[0m fig , ax \u001b[38;5;241m=\u001b[39m plt\u001b[38;5;241m.\u001b[39msubplots(figsize\u001b[38;5;241m=\u001b[39m (\u001b[38;5;241m10\u001b[39m,\u001b[38;5;241m2\u001b[39m))\n\u001b[1;32m----> 8\u001b[0m plt\u001b[38;5;241m.\u001b[39mscatter(\u001b[43mdf\u001b[49m[\u001b[38;5;124m\"\u001b[39m\u001b[38;5;124mDebt\u001b[39m\u001b[38;5;124m\"\u001b[39m], df[\u001b[38;5;124m\"\u001b[39m\u001b[38;5;124mBalance\u001b[39m\u001b[38;5;124m\"\u001b[39m]);\n",
      "\u001b[1;31mNameError\u001b[0m: name 'df' is not defined"
     ]
    },
    {
     "data": {
      "image/png": "[encoded data removed]",
      "text/plain": [
       "<Figure size 1000x200 with 1 Axes>"
      ]
     },
     "metadata": {},
     "output_type": "display_data"
    }
   ],
   "source": [
    "#Data Visualisations\n",
    "\n",
    "import matplotlib.pyplot as plt\n",
    "import seaborn as sns\n",
    "\n",
    "fig , ax = plt.subplots(figsize= (10,2))\n",
    "\n",
    "plt.scatter(df[\"Debt\"], df[\"Balance\"]);"
   ]
  },
  {
   "cell_type": "code",
   "execution_count": null,
   "id": "c5964dcb-2b94-4b5b-bd6b-3cc578180e83",
   "metadata": {},
   "outputs": [],
   "source": [
    "#Seaborn\n",
    "\n",
    "sns.FacetGrid(df, col='Term', ).map(sns.scatterplot, \"Debt\", \"Balance\");\n",
    "\n",
    "#Univariate visualisation\n",
    "\n",
    "sns.boxplot(df)\n",
    "#sns.boxplot(df.drop(\"Income\", axis=1))\n",
    "#plt.yscale('log')\n",
    "\n",
    "\n",
    "#!pip install scikit-learn\n",
    "from sklearn.preprocessing import StandardScaler\n",
    "scaler = StandardScaler()\n",
    "scaler.fit(df[[\"Income\", \"Balance\", \"Debt\", \"Score\"]])\n",
    "scaled_df = scaler.transform(df[[\"Income\", \"Balance\", \"Debt\", \"Score\"]])\n",
    "\n",
    "\n",
    "sns.boxplot(scaled_df)\n",
    "\n",
    "sns.histplot(data=df,x=\"Income\")\n",
    "\n",
    "#Multivariate\n",
    "\n",
    "sns.histplot(data=df,x=\"Income\", hue= “Default”)\n",
    "\n",
    "sns.scatterplot(data=df, x=\"Debt\", y=\"Income\", hue=\"Default\");"
   ]
  }
 ],
 "metadata": {
  "kernelspec": {
   "display_name": "Python 3 (ipykernel)",
   "language": "python",
   "name": "python3"
  },
  "language_info": {
   "codemirror_mode": {
    "name": "ipython",
    "version": 3
   },
   "file_extension": ".py",
   "mimetype": "text/x-python",
   "name": "python",
   "nbconvert_exporter": "python",
   "pygments_lexer": "ipython3",
   "version": "3.11.9"
  }
 },
 "nbformat": 4,
 "nbformat_minor": 5
}
