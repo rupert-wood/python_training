{
 "cells": [
  {
   "cell_type": "markdown",
   "id": "d05702e1-5fd4-4712-99f3-996f6810512f",
   "metadata": {},
   "source": [
    "# Header\n",
    "## Subheader\n",
    "- list item\n",
    "- another"
   ]
  },
  {
   "cell_type": "code",
   "execution_count": 1,
   "id": "7b302357-2a68-4e22-ba2e-9cf59f15405f",
   "metadata": {},
   "outputs": [],
   "source": [
    "import numpy as np"
   ]
  },
  {
   "cell_type": "code",
   "execution_count": 2,
   "id": "af6a3d66-65ad-4c9b-a20b-0eaa4029f631",
   "metadata": {},
   "outputs": [
    {
     "data": {
      "text/plain": [
       "[6.99, 12.4, 75.0, 1.55, 6.99, 12.4, 75.0, 1.55]"
      ]
     },
     "execution_count": 2,
     "metadata": {},
     "output_type": "execute_result"
    }
   ],
   "source": [
    "payments_list = [6.99, 12.40, 75.00, 1.55]\n",
    "payments_list *2"
   ]
  },
  {
   "cell_type": "markdown",
   "id": "3aedf9d6-d747-4298-91b4-872c19bc04a8",
   "metadata": {},
   "source": [
    "Broadcasting operations"
   ]
  },
  {
   "cell_type": "code",
   "execution_count": 8,
   "id": "4d45edc1-c732-4e52-9857-ede34bda4f3c",
   "metadata": {},
   "outputs": [
    {
     "data": {
      "text/plain": [
       "array([ 9.888, 16.38 , 91.5  ,  3.36 ])"
      ]
     },
     "execution_count": 8,
     "metadata": {},
     "output_type": "execute_result"
    }
   ],
   "source": [
    "pay_arr = np.array(payments_list)\n",
    "transaction_fee = 1.5\n",
    "\n",
    "(pay_arr * 1.2) + transaction_fee"
   ]
  },
  {
   "cell_type": "code",
   "execution_count": 9,
   "id": "196cf574-1d1a-41c7-b33c-1e4bdaf8c7e1",
   "metadata": {},
   "outputs": [
    {
     "data": {
      "text/plain": [
       "array([ True,  True,  True, False])"
      ]
     },
     "execution_count": 9,
     "metadata": {},
     "output_type": "execute_result"
    }
   ],
   "source": [
    "pay_arr >5"
   ]
  },
  {
   "cell_type": "code",
   "execution_count": 10,
   "id": "dabebcd7-8d5c-42d3-be11-cad972604a78",
   "metadata": {},
   "outputs": [
    {
     "data": {
      "text/plain": [
       "array([ 6.99, 12.4 , 75.  ])"
      ]
     },
     "execution_count": 10,
     "metadata": {},
     "output_type": "execute_result"
    }
   ],
   "source": [
    "pay_arr[pay_arr >5]"
   ]
  },
  {
   "cell_type": "code",
   "execution_count": 11,
   "id": "f4b42631-9e73-4d61-b813-3bc916b4be4a",
   "metadata": {},
   "outputs": [
    {
     "data": {
      "text/plain": [
       "array([ 6.99, 12.4 ])"
      ]
     },
     "execution_count": 11,
     "metadata": {},
     "output_type": "execute_result"
    }
   ],
   "source": [
    "pay_arr[(pay_arr >5) & (pay_arr <50)]"
   ]
  },
  {
   "cell_type": "code",
   "execution_count": 12,
   "id": "2d997b8e-6ab0-4e31-b90d-5f19a6f9be0a",
   "metadata": {},
   "outputs": [
    {
     "data": {
      "text/plain": [
       "np.float64(75.0)"
      ]
     },
     "execution_count": 12,
     "metadata": {},
     "output_type": "execute_result"
    }
   ],
   "source": [
    "pay_arr[2]"
   ]
  },
  {
   "cell_type": "code",
   "execution_count": 13,
   "id": "eaf24705-aa1c-410e-84fb-a9d1c23f8580",
   "metadata": {},
   "outputs": [
    {
     "data": {
      "text/plain": [
       "array([ 6.99, 12.4 ])"
      ]
     },
     "execution_count": 13,
     "metadata": {},
     "output_type": "execute_result"
    }
   ],
   "source": [
    "#slicing\n",
    "pay_arr[0:2]"
   ]
  },
  {
   "cell_type": "code",
   "execution_count": 15,
   "id": "51fd1d45-906f-417d-b140-f01398a96b16",
   "metadata": {},
   "outputs": [
    {
     "data": {
      "text/plain": [
       "array([ 6.99, 75.  ])"
      ]
     },
     "execution_count": 15,
     "metadata": {},
     "output_type": "execute_result"
    }
   ],
   "source": [
    "#cherry picking\n",
    "pay_arr[[0,2]]"
   ]
  },
  {
   "cell_type": "code",
   "execution_count": 17,
   "id": "f145d13e-b195-4e7a-a38c-4c834ab437f2",
   "metadata": {},
   "outputs": [
    {
     "data": {
      "text/plain": [
       "array([[1, 3, 5, 7],\n",
       "       [2, 4, 6, 8]])"
      ]
     },
     "execution_count": 17,
     "metadata": {},
     "output_type": "execute_result"
    }
   ],
   "source": [
    "#2 dimensional array\n",
    "arr2 = np.array([[1,3,5,7],[2,4,6,8]])\n",
    "arr2"
   ]
  },
  {
   "cell_type": "code",
   "execution_count": 18,
   "id": "2a43a74f-bb08-4ed8-82f2-eded4336c8f3",
   "metadata": {},
   "outputs": [
    {
     "data": {
      "text/plain": [
       "array([[1, 3],\n",
       "       [5, 7],\n",
       "       [2, 4],\n",
       "       [6, 8]])"
      ]
     },
     "execution_count": 18,
     "metadata": {},
     "output_type": "execute_result"
    }
   ],
   "source": [
    "arr2.reshape(4,2)"
   ]
  },
  {
   "cell_type": "code",
   "execution_count": 20,
   "id": "a8cf3f0e-bb33-420c-b681-14db3b14f85b",
   "metadata": {},
   "outputs": [
    {
     "ename": "ValueError",
     "evalue": "cannot reshape array of size 8 into shape (3,2)",
     "output_type": "error",
     "traceback": [
      "\u001b[1;31m---------------------------------------------------------------------------\u001b[0m",
      "\u001b[1;31mValueError\u001b[0m                                Traceback (most recent call last)",
      "Cell \u001b[1;32mIn[20], line 1\u001b[0m\n\u001b[1;32m----> 1\u001b[0m \u001b[43marr2\u001b[49m\u001b[38;5;241;43m.\u001b[39;49m\u001b[43mreshape\u001b[49m\u001b[43m(\u001b[49m\u001b[38;5;241;43m3\u001b[39;49m\u001b[43m,\u001b[49m\u001b[38;5;241;43m2\u001b[39;49m\u001b[43m)\u001b[49m\n",
      "\u001b[1;31mValueError\u001b[0m: cannot reshape array of size 8 into shape (3,2)"
     ]
    }
   ],
   "source": [
    "arr2.reshape(3,2)"
   ]
  },
  {
   "cell_type": "code",
   "execution_count": 21,
   "id": "275e365f-179b-40bd-a39e-e62a18759fb5",
   "metadata": {},
   "outputs": [
    {
     "data": {
      "text/plain": [
       "array([1, 4, 7])"
      ]
     },
     "execution_count": 21,
     "metadata": {},
     "output_type": "execute_result"
    }
   ],
   "source": [
    "np.arange(start=1, stop = 10, step = 3)\n",
    "np.arange(1,10,3)"
   ]
  },
  {
   "cell_type": "code",
   "execution_count": 30,
   "id": "05268484-4f38-4090-aa09-f99e784dd4e2",
   "metadata": {},
   "outputs": [
    {
     "data": {
      "text/plain": [
       "np.True_"
      ]
     },
     "execution_count": 30,
     "metadata": {},
     "output_type": "execute_result"
    }
   ],
   "source": [
    "#logical operators\n",
    "np.all(pay_arr>50) # False\n",
    "np.any(pay_arr>50) # True"
   ]
  },
  {
   "cell_type": "code",
   "execution_count": 29,
   "id": "2a69b6fb-304b-45a3-9b7d-443e1568c2ed",
   "metadata": {},
   "outputs": [
    {
     "data": {
      "text/plain": [
       "np.float64(29.702279794655492)"
      ]
     },
     "execution_count": 29,
     "metadata": {},
     "output_type": "execute_result"
    }
   ],
   "source": [
    "#descriptive statistics\n",
    "pay_arr.sum()\n",
    "pay_arr.min()\n",
    "pay_arr.max()\n",
    "pay_arr.mean()\n",
    "pay_arr.var()\n",
    "pay_arr.std()"
   ]
  },
  {
   "cell_type": "code",
   "execution_count": 32,
   "id": "c1ac6d12-cd71-41ee-b5ee-3be761e8f694",
   "metadata": {},
   "outputs": [
    {
     "data": {
      "text/plain": [
       "array([ 13.98,  24.8 , 150.  ,   3.1 ])"
      ]
     },
     "execution_count": 32,
     "metadata": {},
     "output_type": "execute_result"
    }
   ],
   "source": [
    "#ufuncs - perform element wise operations\n",
    "np.sqrt(pay_arr)\n",
    "np.square(pay_arr)\n",
    "np.exp(pay_arr)\n",
    "np.log(pay_arr)\n",
    "np.sign(pay_arr)\n",
    "np.isnan(pay_arr)\n",
    "np.sin(pay_arr)\n",
    "np.add(pay_arr, pay_arr)"
   ]
  },
  {
   "cell_type": "code",
   "execution_count": 37,
   "id": "e75adb47-4c8e-44aa-894f-85817df57382",
   "metadata": {},
   "outputs": [
    {
     "data": {
      "text/plain": [
       "'C:\\\\Users\\\\Admin\\\\Documents\\\\Course Files\\\\QADHPYTHON'"
      ]
     },
     "execution_count": 37,
     "metadata": {},
     "output_type": "execute_result"
    }
   ],
   "source": [
    "import os\n",
    "os.getcwd()"
   ]
  },
  {
   "cell_type": "code",
   "execution_count": null,
   "id": "2aee57cd-afc6-422e-97b5-e9ecb87ef869",
   "metadata": {},
   "outputs": [],
   "source": []
  }
 ],
 "metadata": {
  "kernelspec": {
   "display_name": "Python 3 (ipykernel)",
   "language": "python",
   "name": "python3"
  },
  "language_info": {
   "codemirror_mode": {
    "name": "ipython",
    "version": 3
   },
   "file_extension": ".py",
   "mimetype": "text/x-python",
   "name": "python",
   "nbconvert_exporter": "python",
   "pygments_lexer": "ipython3",
   "version": "3.11.9"
  }
 },
 "nbformat": 4,
 "nbformat_minor": 5
}
